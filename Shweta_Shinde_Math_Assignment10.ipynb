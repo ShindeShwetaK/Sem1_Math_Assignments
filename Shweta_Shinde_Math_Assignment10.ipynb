{
 "cells": [
  {
   "cell_type": "markdown",
   "id": "2151ee54-0e07-455a-85c3-24fd3be9f9f5",
   "metadata": {},
   "source": [
    "# Shweta Ajay Shinde  017548687\n",
    "MSDA, SJSU ,\n",
    "Data 220- Math Method for DA"
   ]
  },
  {
   "cell_type": "markdown",
   "id": "debb2431-2afc-4398-8f0b-16448a361624",
   "metadata": {},
   "source": [
    "Q1.Suppose there is a rare disease that affects 1 in 10,000 people in a population. There is a diagnostic test for this disease that has the following characteristics:\n",
    "\n",
    "- The probability of a true positive (the test correctly identifies a disease when it is present) is 99%.\n",
    "\n",
    "- The probability of a true negative (the test correctly identifies no disease when it is absent) is 95%.\n",
    "\n",
    "- False positives and false negatives can occur.\n",
    "\n",
    "#### Introduction to Bayes' Theorem\n",
    "\n",
    "For this we will use Bayes' Theorem\n",
    "Bayes' Theorem for this scenario is:\n",
    "\n",
    "                 - P(Desiese | Positive Test) =  P(Desiese | Positive Test) * P(Desiese)\n",
    "                                             ______________________________________________\n",
    "\n",
    "                                                          P(Positive Test)\n",
    "                                                          \n",
    "\n",
    "                                                          \n",
    "\n",
    "Where:\n",
    "\n",
    "- 𝑃(Disease) = P(Disease) is the prior probability of having the disease (1 in 10,000).\n",
    "\n",
    "- P(Positive Test∣Disease) is the sensitivity, i.e., the probability of a true positive (99%).\n",
    "\n",
    "\n",
    "- P(Positive Test) is the total probability of testing positive, which can be broken down into two parts:\n",
    "\n",
    "       - The true positives:  P(Positive Test∣Disease)×P(Disease)\n",
    "       \n",
    "       - The false positives: P(Positive Test∣No Disease)×P(No Disease)\n",
    "Where:\n",
    "\n",
    "- P(Positive Test∣No Disease) is the probability of a false positive, which is 1−True Negative Rate, i.e., 5% (because the true negative rate is 95%).\n",
    "\n",
    "\n",
    "- P(No Disease) is the probability of not having the disease, which is 1−P(Disease).\n",
    "\n",
    "The Formula for \n",
    "\n",
    "- P(Positive Test) = P(Positive Test∣Disease) × P(Disease) + P(Positive Test∣No Disease) × P(No Disease)\n",
    "\n",
    "#### Python Code"
   ]
  },
  {
   "cell_type": "code",
   "execution_count": 4,
   "id": "8df61d5c-8a60-47a0-90ff-64818f443249",
   "metadata": {},
   "outputs": [],
   "source": [
    "def posterior_probability(test_positive, disease_prevalence, true_positive_rate, true_negative_rate):\n",
    "\n",
    "    #p_disease = disease_prevalence \n",
    "    #p_positive_given_disease = true_positive_rate\n",
    "    \n",
    "    # Probability of not having the disease\n",
    "    p_no_disease = 1 - disease_prevalence\n",
    "    \n",
    "    # False positive rate (1 - specificity)\n",
    "    p_positive_given_no_disease = 1 - true_negative_rate\n",
    "    \n",
    "    # Probability of a positive test result (Total Probability)\n",
    "    p_positive_test = (true_positive_rate * disease_prevalence) + (p_positive_given_no_disease * p_no_disease)\n",
    "    \n",
    "    # Applying Bayes' Theorem to calculate posterior probability\n",
    "    posterior = (true_positive_rate * disease_prevalence) / p_positive_test\n",
    "    \n",
    "    return posterior\n"
   ]
  },
  {
   "cell_type": "markdown",
   "id": "e792440f-6eee-4fd2-a9a0-db05e712beb1",
   "metadata": {},
   "source": [
    "### Explanation:\n",
    "\n",
    "### Bayes' Theorem and Posterior Probability\n",
    "\n",
    "\n",
    "Bayes' Theorem helps us calculate the probability of having a disease given a positive test result, which is called the posterior probability. It uses prior knowledge (like the disease prevalence) and the test's performance (sensitivity and specificity).\n",
    "\n",
    "- Prior Probability: This is the probability of having the disease before the test, based on how common the disease is (1 in 10,000 people in this case).\n",
    "\n",
    "- Sensitivity: The probability that the test correctly identifies a person with the disease (99% in this case).\n",
    "\n",
    "- Specificity: The probability that the test correctly identifies a person without the disease (95% here).\n",
    "\n",
    "Despite the high sensitivity and specificity, the posterior probability is still low due to the rarity of the disease. Even if the test is accurate, there will be some false positives (people without the disease who test positive), and because the disease is so rare, these false positives have a significant impact on the results.\n",
    "\n",
    "##### Function Definition: The function posterior_probability is defined with four inputs:\n",
    "\n",
    "- test_positive: True positive rate (sensitivity).\n",
    "- disease_prevalence: Prior probability of having the disease.\n",
    "- true_positive_rate: The sensitivity of the test.\n",
    "- true_negative_rate: The specificity of the test (probability of correctly identifying no disease)."
   ]
  },
  {
   "cell_type": "markdown",
   "id": "58dcabf8-bb11-496d-b518-aeedb4473d4d",
   "metadata": {},
   "source": [
    "### An example of how to use your function with the provided scenario data (3 pts).\n",
    "\n",
    "Scenario Data:\n",
    "\n",
    "- The disease prevalence is 1 in 10,000 people (i.e., 0.0001 probability of having the disease).\n",
    "- The true positive rate (sensitivity) is 99% (i.e., 0.99 probability of a correct positive result if the disease is present).\n",
    "- The true negative rate (specificity) is 95% (i.e., 0.95 probability of a correct negative result if the disease is not present).\n",
    "\n",
    "We will pass all the know values (as given above) as parameter to the defined function **posterior_probability**"
   ]
  },
  {
   "cell_type": "code",
   "execution_count": 5,
   "id": "37a5b765-0b20-4567-851d-afc870c7d282",
   "metadata": {},
   "outputs": [
    {
     "name": "stdout",
     "output_type": "stream",
     "text": [
      "The posterior probability of having the disease given a positive test result is: 0.001976\n"
     ]
    }
   ],
   "source": [
    "# Scenario Data\n",
    "disease_prevalence = 1 / 10000  # Disease prevalence: 1 in 10,000\n",
    "true_positive_rate = 0.99       # Sensitivity: 99%\n",
    "true_negative_rate = 0.95       # Specificity: 95%\n",
    "\n",
    "# Call the function to calculate the posterior probability of having the disease given a positive test result\n",
    "posterior_prob = posterior_probability(true_positive_rate, disease_prevalence, true_positive_rate, true_negative_rate)\n",
    "\n",
    "# Print the result\n",
    "print(f\"The posterior probability of having the disease given a positive test result is: {posterior_prob:.6f}\")"
   ]
  },
  {
   "cell_type": "markdown",
   "id": "f2f9158d-14fb-447d-9916-9764a3d34f65",
   "metadata": {},
   "source": [
    "  \n",
    "The function computes the posterior probability using these values and applies Bayes' Theorem. The result is approximately **1.98%** —this means that even after testing positive, there's still only about a **1.98%** chance that the person actually has the disease due to its rarity and the possibility of false positives."
   ]
  },
  {
   "cell_type": "code",
   "execution_count": null,
   "id": "7ac22d23-3368-4666-8dfd-d45f4d0fa9d9",
   "metadata": {},
   "outputs": [],
   "source": []
  }
 ],
 "metadata": {
  "kernelspec": {
   "display_name": "Python 3 (ipykernel)",
   "language": "python",
   "name": "python3"
  },
  "language_info": {
   "codemirror_mode": {
    "name": "ipython",
    "version": 3
   },
   "file_extension": ".py",
   "mimetype": "text/x-python",
   "name": "python",
   "nbconvert_exporter": "python",
   "pygments_lexer": "ipython3",
   "version": "3.13.0"
  }
 },
 "nbformat": 4,
 "nbformat_minor": 5
}
