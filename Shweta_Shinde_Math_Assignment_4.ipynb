{
 "cells": [
  {
   "cell_type": "markdown",
   "id": "3604a293",
   "metadata": {},
   "source": [
    "## Shweta Ajay Shinde 017548687\n",
    "##### MSDA, SJSU , Data 220- Math Method for DA"
   ]
  },
  {
   "cell_type": "code",
   "execution_count": 10,
   "id": "56460bbb",
   "metadata": {},
   "outputs": [],
   "source": [
    "    #Bayes Theorem\n",
    "    # Returns:\n",
    "    #P(D')= (1 - P(D))\n",
    "    #P(T):- P (T/D) * P(D) + P(T | D') * P(D')\n",
    "    \n",
    "    #Formula P(D/T)=  P(T/D) * P(D) \n",
    "                    #  ____________  \n",
    "                    #      P(T)"
   ]
  },
  {
   "cell_type": "markdown",
   "id": "217edffb",
   "metadata": {},
   "source": [
    "Scenario: Disease Screening\n",
    "\n",
    "A particular disease is more common in older people. Let's consider two age groups: under 50 and over 50. The prevalence of the disease is 2% in the under 50 age group and 8% in the over 50 age group. A screening test has different accuracy levels for these age groups: 95% accuracy for under 50s and 90% for over 50s. However, the test has a 5% false positive rate in both groups.\n",
    "\n",
    "The task is to calculate the probability of having the disease given a positive test result in each age group. Make a python code (Submit your .ipynb file) for this task.\n",
    "\n",
    "1) Make and implement this function (2 pts):\n",
    "\n",
    "2) Complete the above task by setting variables and this function for both groups  (1 pts).\n",
    "\n",
    "3) Obtain the probability for both groups  (2 pts)."
   ]
  },
  {
   "cell_type": "code",
   "execution_count": 11,
   "id": "c2ee2366",
   "metadata": {},
   "outputs": [
    {
     "name": "stdout",
     "output_type": "stream",
     "text": [
      "The probability of having the disease given a positive test result for under 50 age: 0.28\n",
      "The probability of having the disease given a positive test result for over 50 age: 0.61\n"
     ]
    }
   ],
   "source": [
    "import numpy as np\n",
    "\n",
    "# Define the prior, accuracy, false_positive_rate\n",
    "def bayesian_update_disease(prior, accuracy, false_positive_rate):\n",
    "    # - prior: P(D): The probability of having the disease\n",
    "    # - accuracy:P(T | D): The probability of a positive test result given that the person has the disease\n",
    "    # - false_positive_rate: P(T | D`): The probability of a positive test result given that the person does not have the disease.\n",
    "            \n",
    "    #True Positives (TP): accuracyP(T/D) * prior P(D)\n",
    "    TP = accuracy * prior\n",
    "    \n",
    "    # False Positives (FP): false_positive_rate  * (1 - prior) \n",
    "    #                      P(T | D') *  P(D')\n",
    "    FP = false_positive_rate * (1 - prior)\n",
    "    \n",
    "    # Total probability of a positive test\n",
    "    total_positive = TP + FP\n",
    "    \n",
    "    # Probability of having the disease given a positive test result (Bayes' theorem)\n",
    "    probability = TP / total_positive\n",
    "    \n",
    "    return probability\n",
    "\n",
    "# test has a 5% false positive rate\n",
    "false_positive_rate = 0.05\n",
    "\n",
    "# Variables for under 50\n",
    "prior_under_50 = 0.02\n",
    "accuracy_under_50 = 0.95\n",
    "\n",
    "# Calculate probability of positive test for under 50\n",
    "under = bayesian_update_disease(prior_under_50, accuracy_under_50, false_positive_rate)\n",
    "\n",
    "\n",
    "# Variables for over 50\n",
    "prior_over_50 = 0.08\n",
    "accuracy_over_50 = 0.90\n",
    "\n",
    "# Calculate probability of positive test for over 50\n",
    "over = bayesian_update_disease(prior_over_50, accuracy_over_50, false_positive_rate)\n",
    "\n",
    "# Display the result\n",
    "print(f\"The probability of having the disease given a positive test result for under 50 age: {under:.2f}\")\n",
    "\n",
    "print(f\"The probability of having the disease given a positive test result for over 50 age: {over:.2f}\")"
   ]
  },
  {
   "cell_type": "code",
   "execution_count": null,
   "id": "6d9db803",
   "metadata": {},
   "outputs": [],
   "source": []
  },
  {
   "cell_type": "markdown",
   "id": "5343e8cd",
   "metadata": {},
   "source": [
    "Suppose a weather forecast model predicts rain with a 70% accuracy rate. However, it also incorrectly predicts rain 30% of the time when it's not going to rain. Let's say the actual chance of rain on any given day in a particular region is 20%.\n",
    "\n",
    "We want to calculate the probability of it actually raining given that the forecast predicts rain.\n",
    "\n",
    "Make a python code (Submit your .ipynb file) for this task.\n",
    "\n",
    "1) Make and implement this function  (2 pts):\n",
    "\n",
    "2) Complete the above task by setting variables and calling this function  (1 pts).\n",
    "\n",
    "3) Obtain the probability of it actually raining given the forecast predicts rain  (2 pts)."
   ]
  },
  {
   "cell_type": "code",
   "execution_count": 12,
   "id": "27cce48a",
   "metadata": {},
   "outputs": [
    {
     "name": "stdout",
     "output_type": "stream",
     "text": [
      "The probability of it actually raining given that the forecast predicts rain: 0.37\n"
     ]
    }
   ],
   "source": [
    "def bayesian_update_weather(prior, livelihood, false_positive_rate):\n",
    "    \n",
    "    # True Positives (TP): livelihood * prior\n",
    "    TP = livelihood * prior\n",
    "    \n",
    "    # False Positives (FP): false_positive_rate * (1 - prior)\n",
    "        #                      P(T | R') *  P(R')\n",
    "    FP = false_positive_rate * (1 - prior)\n",
    "    \n",
    "    # Total probability of a positive forecast (predicting rain)\n",
    "    total_positive = TP + FP\n",
    "    \n",
    "    # Probability of rain given a positive forecast (Bayes' theorem)\n",
    "    probability = TP / total_positive \n",
    "    \n",
    "    return probability\n",
    "\n",
    "# Variables for the weather forecast\n",
    "prior_rain = 0.20  # Actual chance of rain P(R)\n",
    "livelihood = 0.70  # livelihood of the forecast p(T/R)\n",
    "false_positive_rate = 0.30  # Rate of incorrectly predicting rain P(T/R')\n",
    "\n",
    "# Calculate the probability of it actually raining given that the forecast predicts rain\n",
    "probability_of_rain = bayesian_update_weather(prior_rain, livelihood, false_positive_rate)\n",
    "\n",
    "# Display the result\n",
    "print(f\"The probability of it actually raining given that the forecast predicts rain: {probability_of_rain:.2f}\")"
   ]
  },
  {
   "cell_type": "code",
   "execution_count": null,
   "id": "efb4ccd0",
   "metadata": {},
   "outputs": [],
   "source": []
  }
 ],
 "metadata": {
  "kernelspec": {
   "display_name": "Python 3 (ipykernel)",
   "language": "python",
   "name": "python3"
  },
  "language_info": {
   "codemirror_mode": {
    "name": "ipython",
    "version": 3
   },
   "file_extension": ".py",
   "mimetype": "text/x-python",
   "name": "python",
   "nbconvert_exporter": "python",
   "pygments_lexer": "ipython3",
   "version": "3.11.5"
  }
 },
 "nbformat": 4,
 "nbformat_minor": 5
}
