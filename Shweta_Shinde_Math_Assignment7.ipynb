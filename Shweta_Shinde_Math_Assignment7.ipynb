{
 "cells": [
  {
   "cell_type": "markdown",
   "id": "9e813262-1db6-4c4b-92a6-17b20000ed09",
   "metadata": {},
   "source": [
    "# Shweta Ajay Shinde  017548687\n",
    "MSDA, SJSU ,\n",
    "Data 220- Math Method for DA"
   ]
  },
  {
   "cell_type": "markdown",
   "id": "80587325-d2e3-4ab8-a60b-d75ca861deac",
   "metadata": {},
   "source": [
    "Make a python code for:\n",
    "\n",
    "1) Calculating the inverse matrix of A (1 pts)"
   ]
  },
  {
   "cell_type": "code",
   "execution_count": 2,
   "id": "9b605bc5-2c36-460c-8c0c-1df17710fe8c",
   "metadata": {},
   "outputs": [
    {
     "name": "stdout",
     "output_type": "stream",
     "text": [
      "The inverse of matrix A is:\n",
      "[[ 5.00000000e+00 -3.00000000e+01  1.00000000e+00  1.30000000e+01]\n",
      " [ 4.00000000e+00 -2.50000000e+01  1.00000000e+00  1.10000000e+01]\n",
      " [-1.00000000e+00  7.00000000e+00 -7.77156117e-16 -3.00000000e+00]\n",
      " [-9.00000000e+00  5.60000000e+01 -2.00000000e+00 -2.40000000e+01]]\n"
     ]
    }
   ],
   "source": [
    "import numpy as np\n",
    "A = np.array([\n",
    "    [4, -2, 2, 1],\n",
    "    [1, 1, 0, 1],\n",
    "    [-2, 1, 3, -1],\n",
    "    [1, 3, -1, 2]\n",
    "            ])\n",
    "# Calculate the inverse of matrix A\n",
    "A_inv = np.linalg.inv(A)\n",
    "\n",
    "# Print the inverse matrix\n",
    "print(\"The inverse of matrix A is:\")\n",
    "print(A_inv)"
   ]
  },
  {
   "cell_type": "markdown",
   "id": "4029dc79-1951-4672-a982-68cfbba52521",
   "metadata": {},
   "source": [
    "2) Calculating Eigenvalues and Eigenvectors for the 4x4 Matrix (2 pts)."
   ]
  },
  {
   "cell_type": "code",
   "execution_count": 3,
   "id": "3cdbf5bc-a658-469d-8ea8-cac48734ccd9",
   "metadata": {},
   "outputs": [
    {
     "name": "stdout",
     "output_type": "stream",
     "text": [
      "Eigenvalues:\n",
      "[-0.02231724+0.j          3.6104532 +1.72034086j  3.6104532 -1.72034086j\n",
      "  2.80141085+0.j        ]\n",
      "\n",
      "Eigenvectors:\n",
      "[[-0.43676159+0.j          0.57598271+0.j          0.57598271-0.j\n",
      "   0.26748859+0.j        ]\n",
      " [-0.36900111+0.j          0.00962337-0.2105225j   0.00962337+0.2105225j\n",
      "  -0.34893941+0.j        ]\n",
      " [ 0.10239683+0.j         -0.00821729+0.55142262j -0.00821729-0.55142262j\n",
      "  -0.06120796+0.j        ]\n",
      " [ 0.81399778+0.j         -0.18869091-0.53300366j -0.18869091+0.53300366j\n",
      "  -0.89607183+0.j        ]]\n"
     ]
    }
   ],
   "source": [
    "# Calculate the eigenvalues and eigenvectors\n",
    "eigenvalues, eigenvectors = np.linalg.eig(A)\n",
    "\n",
    "# Print the results\n",
    "print(\"Eigenvalues:\")\n",
    "print(eigenvalues)\n",
    "\n",
    "print(\"\\nEigenvectors:\")\n",
    "print(eigenvectors)"
   ]
  },
  {
   "cell_type": "markdown",
   "id": "ca26bbf7-c9bf-48f8-959c-5ace2c05adcf",
   "metadata": {},
   "source": [
    "3) After having the Eigenvalues and Eigenvectors,\n",
    "\n",
    "    - Constructing the eigen matrix P from eigenvectors: P=eigenvectors\n",
    "\n",
    "    - Constructing the diagonal matrix D from eigenvalues: D=np.diag(eiganvalues)\n",
    "\n",
    "    - Calculating the inverse of the eigen matrix: P_inv = np.linalg.inv(P)\n",
    "\n",
    "Verify if the diagonalized matrix `A_diagonalized` is identical to the original matrix `A` (2 pts). A_diagnalized = P @ D @ P_inv"
   ]
  },
  {
   "cell_type": "code",
   "execution_count": 11,
   "id": "17144fcc-4694-4a95-8d81-84e6d0e9a182",
   "metadata": {},
   "outputs": [
    {
     "name": "stdout",
     "output_type": "stream",
     "text": [
      "\n",
      "Eigenvectors Matrix P:\n",
      "[[-0.43676159+0.j          0.57598271+0.j          0.57598271-0.j\n",
      "   0.26748859+0.j        ]\n",
      " [-0.36900111+0.j          0.00962337-0.2105225j   0.00962337+0.2105225j\n",
      "  -0.34893941+0.j        ]\n",
      " [ 0.10239683+0.j         -0.00821729+0.55142262j -0.00821729-0.55142262j\n",
      "  -0.06120796+0.j        ]\n",
      " [ 0.81399778+0.j         -0.18869091-0.53300366j -0.18869091+0.53300366j\n",
      "  -0.89607183+0.j        ]]\n",
      "\n",
      "Diagonal Matrix D:\n",
      "[[-0.02231724+0.j          0.        +0.j          0.        +0.j\n",
      "   0.        +0.j        ]\n",
      " [ 0.        +0.j          3.6104532 +1.72034086j  0.        +0.j\n",
      "   0.        +0.j        ]\n",
      " [ 0.        +0.j          0.        +0.j          3.6104532 -1.72034086j\n",
      "   0.        +0.j        ]\n",
      " [ 0.        +0.j          0.        +0.j          0.        +0.j\n",
      "   2.80141085+0.j        ]]\n",
      "\n",
      "Original Matrix A:\n",
      "[[ 4 -2  2  1]\n",
      " [ 1  1  0  1]\n",
      " [-2  1  3 -1]\n",
      " [ 1  3 -1  2]]\n",
      "\n",
      "Diagonalized Matrix A_diagonalized:\n",
      "[[ 4.00000000e+00+4.59988659e-16j -2.00000000e+00-1.25679570e-16j\n",
      "   2.00000000e+00-5.55060892e-18j  1.00000000e+00-5.87274714e-17j]\n",
      " [ 1.00000000e+00-1.45688883e-16j  1.00000000e+00+2.06157796e-17j\n",
      "   2.22044605e-16-4.41427991e-17j  1.00000000e+00-4.48739398e-17j]\n",
      " [-2.00000000e+00+2.70950622e-16j  1.00000000e+00-2.04476175e-16j\n",
      "   3.00000000e+00-1.22420428e-16j -1.00000000e+00+6.26632910e-17j]\n",
      " [ 1.00000000e+00-4.16733564e-16j  3.00000000e+00+1.63580536e-16j\n",
      "  -1.00000000e+00-2.23091523e-16j  2.00000000e+00-5.52727360e-17j]]\n",
      "\n",
      "A_diagonalized is identical to the original matrix A.\n"
     ]
    }
   ],
   "source": [
    "\n",
    "# Calculate eigenvalues and eigenvectors\n",
    "eigenvalues, eigenvectors = np.linalg.eig(A)\n",
    "\n",
    "# Construct the eigen matrix P from eigenvectors\n",
    "P = eigenvectors\n",
    "\n",
    "# Construct the diagonal matrix D from eigenvalues\n",
    "D = np.diag(eigenvalues)\n",
    "\n",
    "# Calculate the inverse of the eigen matrix\n",
    "P_inv = np.linalg.inv(P)\n",
    "\n",
    "# Calculate the diagonalized matrix\n",
    "A_diagonalized = P @ D @ P_inv\n",
    "\n",
    "# Print the results\n",
    "print(\"\\nEigenvectors Matrix P:\")\n",
    "print(P)\n",
    "\n",
    "print(\"\\nDiagonal Matrix D:\")\n",
    "print(D) \n",
    "\n",
    "print(\"\\nOriginal Matrix A:\")\n",
    "print(A)\n",
    "\n",
    "print(\"\\nDiagonalized Matrix A_diagonalized:\")\n",
    "print(A_diagonalized)\n",
    "\n",
    "# Check if A_diagonalized is approximately equal to A\n",
    "if np.allclose(A, A_diagonalized):\n",
    "    print(\"\\nA_diagonalized is identical to the original matrix A.\")\n",
    "else:\n",
    "    print(\"\\nA_diagonalized is NOT identical to the original matrix A.\")"
   ]
  },
  {
   "cell_type": "markdown",
   "id": "a4545a43-0445-4b26-aa47-8c6e578dff63",
   "metadata": {},
   "source": [
    "4)  Explain why this result (a diagonalized matrix is identical to the original matrix) is important in linear algebra (1 pts).\n",
    "\n",
    "The result that a diagonalized matrix is identical to the original matrix is important because:\n",
    "\n",
    "\n",
    "\n",
    "- **Easier Calculations**: Diagonal matrices are simpler to work with. For example, it's much easier to calculate powers of a diagonal matrix. Additionally, multiplying diagonal matrices is straightforward since you only multiply the diagonal elements.For example, raising a diagonal matrix to a power simply involves raising each diagonal entry to that power.\n",
    "\n",
    "- **Matrix Insights**: Diagonalization helps us see the key characteristics of a matrix, like how it stretches or shrinks space, making it easier to understand its effects.  It also reveals whether a transformation preserves angles and lengths.\n",
    "\n",
    "- **Solving Problems**: In systems of equations, diagonalization can make finding solutions quicker and simpler. It allows for easy back substitution in linear systems.\n",
    "\n",
    "- **Stability Analysis**: In engineering and control systems, it helps determine if a system will behave steadily or go out of control. It also indicates how sensitive a system is to changes in input.\n",
    "\n",
    "- **Data Analysis**: In statistics, diagonalization is used in techniques like PCA to simplify data while keeping important information.  It aids in identifying the most significant features in datasets.\n",
    "\n",
    "Overall, diagonalization makes complex problems easier to handle and provides valuable insights across many fields."
   ]
  },
  {
   "cell_type": "markdown",
   "id": "8e7d96e0-35c0-4857-ad21-c825da93b36f",
   "metadata": {},
   "source": [
    "5)  Make a python code using SVD example to get the same A (AR) (4 pts)\n",
    "\n",
    "  - Decide your own range for the sigma"
   ]
  },
  {
   "cell_type": "code",
   "execution_count": 8,
   "id": "d9aef9bf-5605-48cf-b917-e0e505c8dd36",
   "metadata": {},
   "outputs": [
    {
     "name": "stdout",
     "output_type": "stream",
     "text": [
      "Original Matrix A:\n",
      "[[ 4 -2  2  1]\n",
      " [ 1  1  0  1]\n",
      " [-2  1  3 -1]\n",
      " [ 1  3 -1  2]]\n",
      "\n",
      "Reconstructed Matrix A_reconstructed:\n",
      "[[ 4.00000000e+00 -2.00000000e+00  2.00000000e+00  1.00000000e+00]\n",
      " [ 1.00000000e+00  1.00000000e+00 -4.18216367e-16  1.00000000e+00]\n",
      " [-2.00000000e+00  1.00000000e+00  3.00000000e+00 -1.00000000e+00]\n",
      " [ 1.00000000e+00  3.00000000e+00 -1.00000000e+00  2.00000000e+00]]\n",
      "\n",
      "A_reconstructed is identical to the original matrix A.\n"
     ]
    }
   ],
   "source": [
    "# Perform Singular Value Decomposition\n",
    "U, sigma, VT = np.linalg.svd(A)\n",
    "\n",
    "# Choose a range for sigma \n",
    "Sigma = np.zeros(A.shape)\n",
    "for i in range(len(sigma)):\n",
    "    Sigma[i, i] = sigma[i]\n",
    "\n",
    "# Reconstruct the original matrix A from U, Sigma, and VT\n",
    "A_reconstructed = U @ Sigma @ VT\n",
    "\n",
    "# Print the results\n",
    "print(\"Original Matrix A:\")\n",
    "print(A)\n",
    "\n",
    "print(\"\\nReconstructed Matrix A_reconstructed:\")\n",
    "print(A_reconstructed)\n",
    "\n",
    "# Check if the reconstructed matrix is approximately equal to the original\n",
    "if np.allclose(A, A_reconstructed):\n",
    "    print(\"\\nA_reconstructed is identical to the original matrix A.\")\n",
    "else:\n",
    "    print(\"\\nA_reconstructed is NOT identical to the original matrix A.\")"
   ]
  }
 ],
 "metadata": {
  "kernelspec": {
   "display_name": "Python 3 (ipykernel)",
   "language": "python",
   "name": "python3"
  },
  "language_info": {
   "codemirror_mode": {
    "name": "ipython",
    "version": 3
   },
   "file_extension": ".py",
   "mimetype": "text/x-python",
   "name": "python",
   "nbconvert_exporter": "python",
   "pygments_lexer": "ipython3",
   "version": "3.13.0"
  }
 },
 "nbformat": 4,
 "nbformat_minor": 5
}
