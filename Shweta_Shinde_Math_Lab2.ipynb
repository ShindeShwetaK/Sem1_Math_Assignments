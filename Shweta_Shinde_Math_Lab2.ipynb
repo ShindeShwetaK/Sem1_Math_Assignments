{
 "cells": [
  {
   "cell_type": "markdown",
   "id": "7494e59e-abeb-4668-9a4e-290f1a6a3909",
   "metadata": {},
   "source": [
    "### Shweta Ajay Shinde 017548687\n",
    "### MSDA, SJSU , Data 220- Math Method for DA\n",
    "### Lab2"
   ]
  },
  {
   "cell_type": "markdown",
   "id": "0a87fd9a-e7a8-46e3-a109-c5af34c00fb6",
   "metadata": {},
   "source": [
    "#### Q1: Recommender System (20 Points)"
   ]
  },
  {
   "cell_type": "markdown",
   "id": "257a4ce0-5d4e-4546-b244-ff9f3fa68a40",
   "metadata": {},
   "source": [
    "#### 1.Load the movies and ratings data. (2 Points) \n",
    "\n",
    "First we  start by loading these files into pandas DataFrames"
   ]
  },
  {
   "cell_type": "code",
   "execution_count": 2,
   "id": "54acb9a4-cfa2-47a1-8d5c-3a0a0e4ae2ee",
   "metadata": {},
   "outputs": [
    {
     "name": "stdout",
     "output_type": "stream",
     "text": [
      "   movieId                               title                        genres\n",
      "0        1                    Toy Story (1995)   Animation|Children's|Comedy\n",
      "1        2                      Jumanji (1995)  Adventure|Children's|Fantasy\n",
      "2        3             Grumpier Old Men (1995)                Comedy|Romance\n",
      "3        4            Waiting to Exhale (1995)                  Comedy|Drama\n",
      "4        5  Father of the Bride Part II (1995)                        Comedy\n",
      "   userId  movieId  rating  timestamp\n",
      "0       1     1193       5  978300760\n",
      "1       1      661       3  978302109\n",
      "2       1      914       3  978301968\n",
      "3       1     3408       4  978300275\n",
      "4       1     2355       5  978824291\n"
     ]
    }
   ],
   "source": [
    "import pandas as pd\n",
    "\n",
    "# Load the movies data\n",
    "movies_df = pd.read_csv(r'F:/movies.dat', sep='::', header=None, engine='python', names=['movieId', 'title', 'genres'], encoding='ISO-8859-1')\n",
    "\n",
    "# Load the ratings data\n",
    "ratings_df = pd.read_csv(r'F:/ratings.dat', sep='::', header=None, engine='python', names=['userId', 'movieId', 'rating', 'timestamp'], encoding='ISO-8859-1')\n",
    "\n",
    "print(movies_df.head())\n",
    "print(ratings_df.head())"
   ]
  },
  {
   "cell_type": "markdown",
   "id": "bdaf2335-7d08-45d5-9d5f-a3520de0622b",
   "metadata": {},
   "source": [
    "##### Explanation\n",
    "The goal here is to load these datasets and understand what kind of information they contain, which is used to build the recommendation model.\n",
    "In the above code we are using:\n",
    "\n",
    "- **pd.read_csv()**: This is a pandas function used to read data from a CSV (Comma Separated Values) file into a DataFrame (a table-like structure).\n",
    "- **sep='::'**: Specifies that the columns in the file are separated by :: instead of the usual comma. This is important because our data uses :: as a delimiter.\n",
    "- **header=None**: Tells pandas that there is no header row in the data, so it doesn’t treat the first row as column names.\n",
    "- **engine='python'**: Specifies which parsing engine to use. The Python engine is used here to handle the :: separator.\n",
    "- **names=[...]**: This sets the names of the columns in the DataFrame, so pandas knows how to label the columns.\n",
    "- **encoding='ISO-8859-1'**: This is used to handle non-UTF-8 characters in the file.\n",
    "- **movies_df.head()**: This will print the 1st 5 rows from the dataset."
   ]
  },
  {
   "cell_type": "markdown",
   "id": "da8bc63a-2a58-4484-a45e-33046774f845",
   "metadata": {},
   "source": [
    "#### 2.Create m x u matrix with movies as row and users as column. Normalize the matrix. (Hint: use pivot_table) (3 Points)\n",
    "\n",
    "We will create a pivot table, which will have movies as rows and users as columns, and the ratings as the values."
   ]
  },
  {
   "cell_type": "code",
   "execution_count": 25,
   "id": "a30795b1-be39-43a9-9e87-702eb5ee363c",
   "metadata": {},
   "outputs": [
    {
     "name": "stdout",
     "output_type": "stream",
     "text": [
      "userId   1     2     3     4     5     6     7     8     9     10    ...  \\\n",
      "movieId                                                              ...   \n",
      "1         5.0   NaN   NaN   NaN   NaN   4.0   NaN   4.0   5.0   5.0  ...   \n",
      "2         NaN   NaN   NaN   NaN   NaN   NaN   NaN   NaN   NaN   5.0  ...   \n",
      "3         NaN   NaN   NaN   NaN   NaN   NaN   NaN   NaN   NaN   NaN  ...   \n",
      "4         NaN   NaN   NaN   NaN   NaN   NaN   NaN   3.0   NaN   NaN  ...   \n",
      "5         NaN   NaN   NaN   NaN   NaN   NaN   NaN   NaN   NaN   NaN  ...   \n",
      "\n",
      "userId   6031  6032  6033  6034  6035  6036  6037  6038  6039  6040  \n",
      "movieId                                                              \n",
      "1         NaN   4.0   NaN   NaN   4.0   NaN   NaN   NaN   NaN   3.0  \n",
      "2         NaN   NaN   NaN   NaN   NaN   NaN   NaN   NaN   NaN   NaN  \n",
      "3         NaN   NaN   NaN   NaN   1.0   NaN   NaN   NaN   NaN   NaN  \n",
      "4         NaN   NaN   NaN   NaN   2.0   2.0   NaN   NaN   NaN   NaN  \n",
      "5         NaN   NaN   NaN   NaN   1.0   NaN   NaN   NaN   NaN   NaN  \n",
      "\n",
      "[5 rows x 6040 columns]\n"
     ]
    }
   ],
   "source": [
    "# Create the m x u matrix (movie x user matrix)\n",
    "movie_user_matrix = ratings_df.pivot_table(index='movieId', columns='userId', values='rating')\n",
    "\n",
    "print(movie_user_matrix.head())\n"
   ]
  },
  {
   "cell_type": "markdown",
   "id": "0707c3d4-71f4-478e-8409-a59b2d03bbbf",
   "metadata": {},
   "source": [
    "##### Explanation\n",
    "- **ratings_df.pivot_table(...)**: This creates a pivot table from the ratings DataFrame.\n",
    "- **index='movieId'**: This makes each row represent a movie, identified by movieId.\n",
    "- **columns='userId'**: This makes each column represent a user, identified by userId.\n",
    "- **values='rating'**: This fills the table with the ratings given by users to the movies. If a user hasn’t rated a movie, the cell will have NaN (Not a Number), indicating missing data.\n",
    "\n",
    "\n",
    "The result is a matrix where each row is a movie and each column is a user, with ratings as the values in the cells."
   ]
  },
  {
   "cell_type": "markdown",
   "id": "a3d5c5f8-e48c-43b0-b59e-55515b6b2ecf",
   "metadata": {},
   "source": [
    "#### Normalizing the Matrix\n",
    "Normalization means adjusting the data to make it easier to compare. We subtract the average rating for each movie from each user's rating for that movie. This will help eliminate user biases and focus on the patterns in the data. Below is the code for normalization:"
   ]
  },
  {
   "cell_type": "code",
   "execution_count": 26,
   "id": "4f935f00-b863-400a-a2a1-3840d515c91c",
   "metadata": {},
   "outputs": [
    {
     "name": "stdout",
     "output_type": "stream",
     "text": [
      "userId       1     2     3     4     5         6     7         8         9     \\\n",
      "movieId                                                                         \n",
      "1        0.853154   NaN   NaN   NaN   NaN -0.146846   NaN -0.146846  0.853154   \n",
      "2             NaN   NaN   NaN   NaN   NaN       NaN   NaN       NaN       NaN   \n",
      "3             NaN   NaN   NaN   NaN   NaN       NaN   NaN       NaN       NaN   \n",
      "4             NaN   NaN   NaN   NaN   NaN       NaN   NaN  0.270588       NaN   \n",
      "5             NaN   NaN   NaN   NaN   NaN       NaN   NaN       NaN       NaN   \n",
      "\n",
      "userId       10    ...  6031      6032  6033  6034      6035      6036  6037  \\\n",
      "movieId            ...                                                         \n",
      "1        0.853154  ...   NaN -0.146846   NaN   NaN -0.146846       NaN   NaN   \n",
      "2        1.798859  ...   NaN       NaN   NaN   NaN       NaN       NaN   NaN   \n",
      "3             NaN  ...   NaN       NaN   NaN   NaN -2.016736       NaN   NaN   \n",
      "4             NaN  ...   NaN       NaN   NaN   NaN -0.729412 -0.729412   NaN   \n",
      "5             NaN  ...   NaN       NaN   NaN   NaN -2.006757       NaN   NaN   \n",
      "\n",
      "userId   6038  6039      6040  \n",
      "movieId                        \n",
      "1         NaN   NaN -1.146846  \n",
      "2         NaN   NaN       NaN  \n",
      "3         NaN   NaN       NaN  \n",
      "4         NaN   NaN       NaN  \n",
      "5         NaN   NaN       NaN  \n",
      "\n",
      "[5 rows x 6040 columns]\n"
     ]
    }
   ],
   "source": [
    "normalized_matrix = movie_user_matrix.apply(lambda x: x - x.mean(), axis=1)\n",
    "\n",
    "print(normalized_matrix.head())"
   ]
  },
  {
   "cell_type": "markdown",
   "id": "0b2fb15d-b200-4bc4-8340-e63700941fe3",
   "metadata": {},
   "source": [
    "##### Explanation\n",
    "- **.apply(lambda x: x - x.mean(), axis=1)**: This applies a function to each row of the matrix.\n",
    "- **x.mean()**: This calculates the average rating for each movie (row).\n",
    "- **x - x.mean()**: Subtracts the average rating from each individual rating. This gives us how much a user’s rating for a movie deviates from the average rating of that movie."
   ]
  },
  {
   "cell_type": "markdown",
   "id": "e490022d-d4e8-4602-8eab-fd3fd38b79fa",
   "metadata": {},
   "source": [
    "#### 3.Perform SVD to get U, S and V. (4 Points)\n",
    "Now that we have the normalized matrix, we can apply Singular Value Decomposition (SVD). This will decompose the matrix into three matrices: U, S, and V.\n",
    "\n",
    "**U**: Represents the relationship between users and the latent factors (hidden patterns).\n",
    "\n",
    "**S**: Contains the singular values, which represent the strength of each latent factor (component).\n",
    "\n",
    "**V**: Represents the relationship between movies and the latent factors"
   ]
  },
  {
   "cell_type": "code",
   "execution_count": null,
   "id": "c004a6a3-33ae-4250-9ad1-341a69d3f605",
   "metadata": {},
   "outputs": [],
   "source": [
    "pip install scikit-learn"
   ]
  },
  {
   "cell_type": "code",
   "execution_count": 27,
   "id": "7bae49df-8e7b-4334-889f-25fb73d8b2b8",
   "metadata": {},
   "outputs": [
    {
     "name": "stdout",
     "output_type": "stream",
     "text": [
      "U matrix shape: (3706, 50)\n",
      "S values shape: (50,)\n",
      "V matrix shape: (50, 6040)\n"
     ]
    }
   ],
   "source": [
    "from sklearn.decomposition import TruncatedSVD\n",
    "\n",
    "svd = TruncatedSVD(n_components=50)  # We will keep the top 50 components\n",
    "U = svd.fit_transform(normalized_matrix.fillna(0))  # U matrix\n",
    "S = svd.singular_values_  # Singular values (diagonal matrix)\n",
    "V = svd.components_  # V matrix\n",
    "\n",
    "print(\"U matrix shape:\", U.shape)\n",
    "print(\"S values shape:\", S.shape)\n",
    "print(\"V matrix shape:\", V.shape)"
   ]
  },
  {
   "cell_type": "markdown",
   "id": "1c1f2aff-1f9d-49bf-9b36-96a1d75b5df4",
   "metadata": {},
   "source": [
    "##### Explanation\n",
    "- **TruncatedSVD(n_components=50)**: We perform Singular Value Decomposition (SVD) and keep the top 50 components.\n",
    "- **.fit_transform(normalized_matrix.fillna(0))**: This applies SVD to the normalized matrix. fillna(0) is used to replace missing values (NaN) with 0 before applying SVD (SVD cannot handle NaN values)."
   ]
  },
  {
   "cell_type": "markdown",
   "id": "d4ba121e-2e4f-409a-8220-fc83e8e884cb",
   "metadata": {},
   "source": [
    "#### 4.Select top 50 components from S."
   ]
  },
  {
   "cell_type": "code",
   "execution_count": 28,
   "id": "b7e86326-1038-4ea2-94e1-c6d896507508",
   "metadata": {
    "scrolled": true
   },
   "outputs": [
    {
     "name": "stdout",
     "output_type": "stream",
     "text": [
      "Top 50 Singular Values: [192.45495882 120.29886171  91.97753635  90.07817364  83.68875478\n",
      "  79.25635717  75.97547306  72.01501872  67.69932569  66.27064794\n",
      "  62.69397855  61.18538938  59.11702691  58.97458055  57.76882442\n",
      "  57.55700376  56.48544056  55.64671004  54.76913828  54.09501287\n",
      "  54.04172312  53.22604422  52.06371177  51.97716065  51.74772468\n",
      "  51.531598    51.04663705  50.45930102  50.03776625  49.85890495\n",
      "  49.77636998  49.12939445  48.53515424  48.46489027  48.43129027\n",
      "  48.19321639  47.66631574  47.39283864  47.34001356  47.10336741\n",
      "  46.78244633  46.35797575  45.99829612  45.8278173   45.75488433\n",
      "  45.51941083  45.32106127  44.75994107  44.62166597  44.51756524]\n"
     ]
    }
   ],
   "source": [
    "top_50_singular_values = S[:50]\n",
    "print(\"Top 50 Singular Values:\", top_50_singular_values)"
   ]
  },
  {
   "cell_type": "markdown",
   "id": "df93341e-cd3f-468e-8b9d-7ca512442eb8",
   "metadata": {},
   "source": [
    "Here we used slicing method to extract the top 50 singular values.\n",
    "    \n",
    "**Explanation:**\n",
    "\n",
    "S[:50] slices the Series S and selects the first 50 rows (index 0 to 49).\n"
   ]
  },
  {
   "cell_type": "markdown",
   "id": "43125df6-8e90-4498-8444-027d1b45cccd",
   "metadata": {},
   "source": [
    "#### 5.Get the top 50 eigenvectors using eigenvalues."
   ]
  },
  {
   "cell_type": "code",
   "execution_count": 29,
   "id": "f8290a6e-710c-440a-9ee4-230523b26fa7",
   "metadata": {},
   "outputs": [
    {
     "name": "stdout",
     "output_type": "stream",
     "text": [
      "Shape of top 50 eigenvectors: (50, 6040)\n",
      "Sample eigenvectors (first 5 rows):\n",
      "[[-0.00277264 -0.00125646 -0.00123473 ...  0.00110649  0.00047428\n",
      "   0.01997456]\n",
      " [ 0.00072501 -0.00578383 -0.00358401 ... -0.00230181 -0.00355131\n",
      "  -0.00647478]\n",
      " [ 0.00874501  0.01060192 -0.00057599 ... -0.00073461  0.00270549\n",
      "  -0.01750048]\n",
      " ...\n",
      " [ 0.00038467 -0.00297554 -0.00196643 ...  0.00601396  0.00763738\n",
      "  -0.00587449]\n",
      " [-0.00041221 -0.00597698  0.00381288 ... -0.00349917  0.00152569\n",
      "  -0.01662898]\n",
      " [ 0.00496295 -0.00300113  0.00359278 ...  0.01694664  0.00023505\n",
      "  -0.02237405]]\n"
     ]
    }
   ],
   "source": [
    "top_50_eigenvectors = V \n",
    "print(\"Shape of top 50 eigenvectors:\", top_50_eigenvectors.shape)\n",
    "print(\"Sample eigenvectors (first 5 rows):\")\n",
    "print(top_50_eigenvectors[:50])"
   ]
  },
  {
   "cell_type": "markdown",
   "id": "bbae64bc-4c13-47e5-bddb-e443f668cc49",
   "metadata": {},
   "source": [
    "Here we used slicing method to extract the top 50 values.\n",
    "\n",
    "**Explanation:**\n",
    "\n",
    "top_50_eigenvectors[:50] slices the Series S and selects the first 50 rows (index 0 to 49)."
   ]
  },
  {
   "cell_type": "markdown",
   "id": "d4f9b005-8b30-424a-b4ed-8657ea38a615",
   "metadata": {},
   "source": [
    "#### 6.Using cosine similarity, find 5 closest movies using the 50 components from SVD. Discuss the results."
   ]
  },
  {
   "cell_type": "code",
   "execution_count": 31,
   "id": "3e40e8b4-4b42-44d7-98d5-24332b5753f5",
   "metadata": {},
   "outputs": [
    {
     "name": "stdout",
     "output_type": "stream",
     "text": [
      "Top 5 closest movie indices: [2898  574 2162  581  354]\n",
      "Similarity scores: [0.9045129  0.81531876 0.80351282 0.65717739 0.65077675]\n"
     ]
    }
   ],
   "source": [
    "from sklearn.metrics.pairwise import cosine_similarity\n",
    "import numpy as np\n",
    "\n",
    "\n",
    "target_movie_idx = 0  \n",
    "cosine_similarities = cosine_similarity(U)  # Cosine similarity using the U matrix\n",
    "\n",
    "similarity_scores = cosine_similarities[target_movie_idx]\n",
    "top_5_movie_indices = np.argsort(similarity_scores)[-6:-1][::-1] \n",
    "\n",
    "print(\"Top 5 closest movie indices:\", top_5_movie_indices)\n",
    "print(\"Similarity scores:\", similarity_scores[top_5_movie_indices])"
   ]
  },
  {
   "cell_type": "markdown",
   "id": "934505c0-445b-423a-b2ff-bdacb4445f73",
   "metadata": {},
   "source": [
    "#### Discussion: Cosine Similarity in Movie Recommendations\n",
    "\n",
    "When we use **cosine similarity**, we measure how \"aligned\" two movies are based on their features in the reduced space. If the features (e.g., genre, user preferences) of two movies are very similar, their cosine similarity score will be high, suggesting that viewers of the target movie are likely to enjoy these similar movies.\n",
    "\n",
    "\n",
    "\n",
    "#### Example: If *Toy Story* (index 0) is the target movie:\n",
    "\n",
    "**Closest Movies**:\n",
    "- **A Bug’s Life** (index 28): Shares the same genre of animation and family themes.\n",
    "- **Shrek** (index 6): Another popular animated movie with humor.\n",
    "- **Monsters Inc.** (index 7): Same target audience and animation style.\n",
    "\n",
    "\n",
    "\n",
    "#### Key Takeaway:\n",
    "Cosine similarity helps identify movies that are closely related in terms of characteristics, making it a powerful tool for recommendations.\n"
   ]
  },
  {
   "cell_type": "markdown",
   "id": "d3efb8c4-9ac7-4193-8e7a-67e4c69424ac",
   "metadata": {},
   "source": [
    "##########################################################################################################################################"
   ]
  },
  {
   "cell_type": "markdown",
   "id": "5d8e1271-b867-48c7-a347-e61f24e709ba",
   "metadata": {},
   "source": [
    "#### Q2: House Prices Prediction (40 Points)"
   ]
  },
  {
   "cell_type": "markdown",
   "id": "7904bdc0-b60a-466c-a9b5-1482f79d0374",
   "metadata": {},
   "source": [
    "#### 1.Import the dataset and display its first 5 rows. Identify the Features and the Target variables in the dataset\n",
    "This step involves loading and inspecting the dataset, identifying the key features that will help predict house prices.\n",
    "\n",
    "**df.head()**: Displays the first few rows of the dataset to preview its structure and data."
   ]
  },
  {
   "cell_type": "code",
   "execution_count": 35,
   "id": "82812fff-4f8c-4af2-ac77-89213a742417",
   "metadata": {},
   "outputs": [
    {
     "name": "stdout",
     "output_type": "stream",
     "text": [
      "First 5 rows of the dataset:\n",
      "          date  bedrooms  bathrooms  sqft_living  sqft_lot  floors  \\\n",
      "0  5/2/14 0:00         3       1.50         1340      7912     1.5   \n",
      "1  5/2/14 0:00         5       2.50         3650      9050     2.0   \n",
      "2  5/2/14 0:00         3       2.00         1930     11947     1.0   \n",
      "3  5/2/14 0:00         3       2.25         2000      8030     1.0   \n",
      "4  5/2/14 0:00         4       2.50         1940     10500     1.0   \n",
      "\n",
      "   waterfront  view  condition  sqft_above  sqft_basement  yr_built  \\\n",
      "0           0     0          3        1340              0      1955   \n",
      "1           0     4          5        3370            280      1921   \n",
      "2           0     0          4        1930              0      1966   \n",
      "3           0     0          4        1000           1000      1963   \n",
      "4           0     0          4        1140            800      1976   \n",
      "\n",
      "   yr_renovated  SalesPrice  \n",
      "0          2005    313000.0  \n",
      "1             0   2384000.0  \n",
      "2             0    342000.0  \n",
      "3             0    420000.0  \n",
      "4          1992    550000.0  \n",
      "Features (x):\n",
      "          date  bedrooms  bathrooms  sqft_living  sqft_lot  floors  \\\n",
      "0  5/2/14 0:00         3       1.50         1340      7912     1.5   \n",
      "1  5/2/14 0:00         5       2.50         3650      9050     2.0   \n",
      "2  5/2/14 0:00         3       2.00         1930     11947     1.0   \n",
      "3  5/2/14 0:00         3       2.25         2000      8030     1.0   \n",
      "4  5/2/14 0:00         4       2.50         1940     10500     1.0   \n",
      "\n",
      "   waterfront  view  condition  sqft_above  sqft_basement  yr_built  \\\n",
      "0           0     0          3        1340              0      1955   \n",
      "1           0     4          5        3370            280      1921   \n",
      "2           0     0          4        1930              0      1966   \n",
      "3           0     0          4        1000           1000      1963   \n",
      "4           0     0          4        1140            800      1976   \n",
      "\n",
      "   yr_renovated  \n",
      "0          2005  \n",
      "1             0  \n",
      "2             0  \n",
      "3             0  \n",
      "4          1992  \n",
      "\n",
      "Target (y):\n",
      "0     313000.0\n",
      "1    2384000.0\n",
      "2     342000.0\n",
      "3     420000.0\n",
      "4     550000.0\n",
      "Name: SalesPrice, dtype: float64\n"
     ]
    }
   ],
   "source": [
    "#Loding the housing data\n",
    "housing_df = pd.read_csv(r'F:/HousePrice.csv')\n",
    "print(\"First 5 rows of the dataset:\")\n",
    "print(housing_df.head())\n",
    "\n",
    "#Features \n",
    "features = housing_df.drop(columns=[\"SalesPrice\"]) \n",
    "print(\"Features (x):\") # All columns except 'SalesPrice'\n",
    "print(features.head()) \n",
    "\n",
    "#Target\n",
    "target = housing_df[\"SalesPrice\"] \n",
    "print(\"\\nTarget (y):\")\n",
    "print(target.head())"
   ]
  },
  {
   "cell_type": "markdown",
   "id": "0f6146cb-2024-4346-a3ff-9a84667d9625",
   "metadata": {},
   "source": [
    "#### 2.Summarize the dataset by calculating the minimum, maximum, mean, and standard deviation for sqft_living, sqft_lot, floors, SalesPrice. (4 Points)\n",
    "\n",
    "In this step, we calculate basic summary statistics to understand the range and distribution of the selected features, which will help in model analysis.\n",
    "\n",
    "**agg()**: Aggregates and calculates multiple statistics (like min, max, mean, and std) for the selected features.\n",
    "\n",
    "**describe()** : Aggregates and calculates multiple statistics"
   ]
  },
  {
   "cell_type": "code",
   "execution_count": 38,
   "id": "f85ad508-b71e-4743-8f36-35e4ecd022fb",
   "metadata": {},
   "outputs": [
    {
     "name": "stdout",
     "output_type": "stream",
     "text": [
      "\n",
      "Dataset Summary:\n",
      "        sqft_living      sqft_lot       floors    SalesPrice\n",
      "count   4600.000000  4.600000e+03  4600.000000  4.600000e+03\n",
      "mean    2139.346957  1.485252e+04     1.512065  5.519630e+05\n",
      "std      963.206916  3.588444e+04     0.538288  5.638347e+05\n",
      "min      370.000000  6.380000e+02     1.000000  0.000000e+00\n",
      "25%     1460.000000  5.000750e+03     1.000000  3.228750e+05\n",
      "50%     1980.000000  7.683000e+03     1.500000  4.609435e+05\n",
      "75%     2620.000000  1.100125e+04     2.000000  6.549625e+05\n",
      "max    13540.000000  1.074218e+06     3.500000  2.659000e+07\n"
     ]
    }
   ],
   "source": [
    "summary = housing_df[[\"sqft_living\", \"sqft_lot\", \"floors\", \"SalesPrice\"]].describe()\n",
    "print(\"\\nDataset Summary:\")\n",
    "print(summary)"
   ]
  },
  {
   "cell_type": "code",
   "execution_count": 39,
   "id": "43a80ae6-8278-4f16-957f-9debb58bbb7c",
   "metadata": {},
   "outputs": [
    {
     "name": "stdout",
     "output_type": "stream",
     "text": [
      "       sqft_living      sqft_lot    floors    SalesPrice\n",
      "min     370.000000  6.380000e+02  1.000000  0.000000e+00\n",
      "max   13540.000000  1.074218e+06  3.500000  2.659000e+07\n",
      "mean   2139.346957  1.485252e+04  1.512065  5.519630e+05\n",
      "std     963.206916  3.588444e+04  0.538288  5.638347e+05\n"
     ]
    }
   ],
   "source": [
    "# Or alternate method\n",
    "summary_stats = housing_df[[\"sqft_living\", \"sqft_lot\", \"floors\", \"SalesPrice\"]].agg([\"min\", \"max\", \"mean\", \"std\"])\n",
    "print(summary_stats)"
   ]
  },
  {
   "cell_type": "markdown",
   "id": "1ff06267-92db-4a5e-b443-ae30814c5fce",
   "metadata": {},
   "source": [
    "#### 3.Create a box plot for SalesPrice. Based on the box plot, identify and calculate the percentage of the population that falls within the 1st and 3rd quartile range (i.e., the interquartile range). (4 Points)\n",
    "\n",
    "A box plot helps visualize the distribution of SalesPrice by showing the median, interquartile range (IQR), and potential outliers. We can also determine how much of the data falls within the IQR, which is useful for understanding data spread."
   ]
  },
  {
   "cell_type": "code",
   "execution_count": 40,
   "id": "5e172c49-75fa-4729-bea0-ea730c8b284c",
   "metadata": {},
   "outputs": [
    {
     "data": {
      "image/png": "[encoded data removed]",
      "text/plain": [
       "<Figure size 600x400 with 1 Axes>"
      ]
     },
     "metadata": {},
     "output_type": "display_data"
    },
    {
     "name": "stdout",
     "output_type": "stream",
     "text": [
      "Percentage of SalesPrice within IQR: 50.00%\n"
     ]
    }
   ],
   "source": [
    "import matplotlib.pyplot as plt\n",
    "\n",
    "plt.figure(figsize=(6, 4))\n",
    "plt.boxplot(housing_df[\"SalesPrice\"], vert=False, patch_artist=True)\n",
    "plt.title(\"Box Plot of SalesPrice\")\n",
    "plt.xlabel(\"SalesPrice\")\n",
    "plt.show()\n",
    "\n",
    "#IQR\n",
    "q1 = housing_df[\"SalesPrice\"].quantile(0.25)\n",
    "q3 = housing_df[\"SalesPrice\"].quantile(0.75)\n",
    "iqr = q3 - q1\n",
    "in_range = housing_df[(housing_df[\"SalesPrice\"] >= q1) & (housing_df[\"SalesPrice\"] <= q3)]\n",
    "percentage = (len(in_range) / len(housing_df)) * 100\n",
    "print(f\"Percentage of SalesPrice within IQR: {percentage:.2f}%\")"
   ]
  },
  {
   "cell_type": "markdown",
   "id": "ae6a752d-d496-4aea-acb4-d946657cc568",
   "metadata": {},
   "source": [
    "##### Insights of the Box Plot\n",
    "\n",
    "- **0 is the minimum value**: The box plot indicates that the minimum value of the data is 0, which could suggest that there are instances where the sales price is either not recorded or zero.\n",
    "\n",
    "- **Most of the values lie between 0 to 0.5 of the Salesprice**: A majority of the data points fall within this range, showing that most sales are relatively lower in price, possibly indicating more frequent low-cost items.\n",
    "\n",
    "- **There are few outliers**: The box plot shows some outliers where the sales price exceeds 2.5. These outliers suggest the presence of very high sales prices that are significantly higher than the rest of the data.\n",
    "\n",
    "- **Interquartile Range (IQR)**: The middle 50% of the data falls within the IQR (between the first and third quartiles), highlighting the range where most sales prices are concentrated.\n"
   ]
  },
  {
   "cell_type": "markdown",
   "id": "69e5846f-fc37-4d63-ac20-f3288094f132",
   "metadata": {},
   "source": [
    "#### Linear Regression (Single Variable) (10 Points)\n",
    "#### 4.Implement linear regression manually using sqft_basement as the independent variable and SalesPrice as the target. Calculate and print the coefficient (slope) and intercept. (3 Points)\n",
    "\n",
    "In this step, we manually implement linear regression using the formula \n",
    "𝑦 = 𝛽0 + 𝛽1𝑥\n",
    "and then compare it with the results from sklearn.linear_model.LinearRegression."
   ]
  },
  {
   "cell_type": "code",
   "execution_count": 41,
   "id": "992bd78c-1438-447d-a3fb-9e16c6b5622e",
   "metadata": {},
   "outputs": [
    {
     "name": "stdout",
     "output_type": "stream",
     "text": [
      "\n",
      "Manual Linear Regression: Slope = 255.63, Intercept = 472186.66\n"
     ]
    }
   ],
   "source": [
    "x = housing_df[\"sqft_basement\"].values\n",
    "y = housing_df[\"SalesPrice\"].values\n",
    "\n",
    "# Calculate slope and intercept\n",
    "x_mean, y_mean = np.mean(x), np.mean(y)\n",
    "slope = np.sum((x - x_mean) * (y - y_mean)) / np.sum((x - x_mean)**2)\n",
    "intercept = y_mean - slope * x_mean\n",
    "print(f\"\\nManual Linear Regression: Slope = {slope:.2f}, Intercept = {intercept:.2f}\")"
   ]
  },
  {
   "cell_type": "markdown",
   "id": "37837a05-7895-4fa9-ac88-cca4ff8787bc",
   "metadata": {},
   "source": [
    "**Output Explanation:**\n",
    "\n",
    "Slope = 255.63: This means for every additional square foot of basement area, the sales price increases by 255.63 units.\n",
    "    \n",
    "Intercept = 472186.66: This means if the basement area were zero, the expected sales price would be 472186.66 units."
   ]
  },
  {
   "cell_type": "markdown",
   "id": "e48d3236-d49a-4bc4-9843-40ae9d28a02a",
   "metadata": {},
   "source": [
    "#### 5.Compute the Sum of Squared Errors (SSE) for your manually implemented model. (3 Points)"
   ]
  },
  {
   "cell_type": "code",
   "execution_count": 42,
   "id": "224b946f-190b-4cdb-bbf4-70ba5ac2aa09",
   "metadata": {},
   "outputs": [
    {
     "name": "stdout",
     "output_type": "stream",
     "text": [
      "Sum of Squared Errors (SSE): 1397326794746117.25\n"
     ]
    }
   ],
   "source": [
    "y_pred_manual = slope * x + intercept\n",
    "sse = np.sum((y - y_pred_manual)**2)\n",
    "print(f\"Sum of Squared Errors (SSE): {sse:.2f}\")"
   ]
  },
  {
   "cell_type": "markdown",
   "id": "13679e22-dc3a-4210-a7bc-fac27e2f619a",
   "metadata": {},
   "source": [
    "**Output Explanation:**\n",
    "\n",
    "SSE = 1397326794746117.25: This is the total sum of the squared differences between the actual sales prices and the prices predicted by the manually implemented linear regression model. The lower this value, the better the model fits the data."
   ]
  },
  {
   "cell_type": "markdown",
   "id": "e00aa029-0fee-4e55-8a94-86e1372853ce",
   "metadata": {},
   "source": [
    "#### 6.Use the LinearRegression class from sklearn.linear_model to perform linear regression with sqft_basement as the independent variable. Compare the coefficient and intercept with your manual implementation. (4 Points)"
   ]
  },
  {
   "cell_type": "code",
   "execution_count": 43,
   "id": "1639ee8d-e246-4008-b981-624d2f13f2f3",
   "metadata": {},
   "outputs": [
    {
     "name": "stdout",
     "output_type": "stream",
     "text": [
      "\n",
      "Sklearn Linear Regression:\n",
      "Coefficient (Slope): 255.63, Intercept: 472186.66\n"
     ]
    }
   ],
   "source": [
    "from sklearn.linear_model import LinearRegression\n",
    "\n",
    "lr = LinearRegression()\n",
    "x_sklearn = x.reshape(-1, 1)\n",
    "lr.fit(x_sklearn, y)\n",
    "print(\"\\nSklearn Linear Regression:\")\n",
    "print(f\"Coefficient (Slope): {lr.coef_[0]:.2f}, Intercept: {lr.intercept_:.2f}\")"
   ]
  },
  {
   "cell_type": "markdown",
   "id": "a529d88d-5924-4a80-bc76-9781261931fc",
   "metadata": {},
   "source": [
    "**Output Explanation:**\n",
    "\n",
    "Coefficient (Slope) = 255.63: The slope calculated using sklearn is the same as your manual calculation, meaning every additional square foot of basement area increases the sales price by 255.63 units.\n",
    "    \n",
    "Intercept = 472186.66: Similarly, the intercept is also the same as your manual calculation, suggesting that for zero square feet of basement, the predicted sales price is 472186.66 units."
   ]
  },
  {
   "cell_type": "markdown",
   "id": "46b405ce-d43a-40d3-bc09-4eee15fbbdf5",
   "metadata": {},
   "source": [
    "#### Linear Regression (Multivariate) (Total 5 points):\n",
    "#### 7.Use the Linear Regression function from sklearn.linear_model library to include multiple features\n",
    "\n",
    "This step extends the linear regression to multiple features (e.g., sqft_living, sqft_lot, etc.) to predict SalesPrice. The 𝑅^2 value will indicate how well the model fits the data.\n",
    "\n",
    "Key function used:\n",
    "\n",
    "**model.score()**: This function computes the 𝑅^2 score for the multivariate model, indicating how well the model explains the variance in the target variable"
   ]
  },
  {
   "cell_type": "code",
   "execution_count": 44,
   "id": "ba0f8859-1d8b-42ac-afc3-5590de38f70f",
   "metadata": {},
   "outputs": [
    {
     "name": "stdout",
     "output_type": "stream",
     "text": [
      "\n",
      "Multivariate Linear Regression:\n",
      "Coefficients: [273.32715845 246.07814925], Intercept: 17012.54, R^2: 0.19\n"
     ]
    }
   ],
   "source": [
    "multi_features = housing_df[[\"sqft_basement\", \"sqft_above\"]]\n",
    "lr.fit(multi_features, y)\n",
    "r2_score_multi = lr.score(multi_features, y)\n",
    "print(\"\\nMultivariate Linear Regression:\")\n",
    "print(f\"Coefficients: {lr.coef_}, Intercept: {lr.intercept_:.2f}, R^2: {r2_score_multi:.2f}\")"
   ]
  },
  {
   "cell_type": "markdown",
   "id": "51159e0a-3048-46bf-918d-019cdd456245",
   "metadata": {},
   "source": [
    "**Output Explination**\n",
    "  \n",
    "Coefficients:\n",
    "\n",
    "273.33: For each 1-unit increase in the first feature (e.g., sqft_basement), the Sales Price increases by 273.33 units.\n",
    "  \n",
    "246.08: For each 1-unit increase in the second feature, the Sales Price increases by 246.08 units.\n",
    "  \n",
    "Intercept:\n",
    "\n",
    "17012.54: The predicted Sales Price when both features are zero.\n",
    "  \n",
    "R² (R-squared):\n",
    "\n",
    "0.19: This means the model explains only 19% of the variability in the Sales Price, suggesting that it doesn’t fit the data very well.\n",
    "  \n",
    "In short, the model shows how each feature impacts the Sales Price, but it only explains a small portion of the variation in the target.\n"
   ]
  },
  {
   "cell_type": "markdown",
   "id": "8dea7079-4bf3-4831-aa49-070b2625297b",
   "metadata": {},
   "source": [
    "#### 8.Visualize the relationships between the selected features and SalePrice. (2 points)\n",
    "Visualizing the relationship between each feature (e.g., sqft_living, sqft_lot) and SalesPrice using scatter plots helps to understand how the target variable changes as each feature varies."
   ]
  },
  {
   "cell_type": "code",
   "execution_count": 38,
   "id": "9b122dde-c128-4665-87cc-4340b2e4c4a4",
   "metadata": {},
   "outputs": [
    {
     "data": {
      "image/png": "[encoded data removed]",
      "text/plain": [
       "<Figure size 640x480 with 1 Axes>"
      ]
     },
     "metadata": {},
     "output_type": "display_data"
    }
   ],
   "source": [
    "plt.scatter(housing_df[\"sqft_basement\"], housing_df[\"SalesPrice\"], label=\"Basement\")\n",
    "plt.scatter(housing_df[\"sqft_above\"], housing_df[\"SalesPrice\"], label=\"Above\")\n",
    "plt.legend()\n",
    "plt.title(\"Features vs SalesPrice\")\n",
    "plt.xlabel(\"Square Footage\")\n",
    "plt.ylabel(\"SalesPrice\")\n",
    "plt.show()"
   ]
  },
  {
   "cell_type": "markdown",
   "id": "4e376cf6-2274-49b3-9ee6-294dd2ba4e0e",
   "metadata": {},
   "source": [
    "**Insights of the above Scatter plot**\n",
    "- These points represent the actual data for sqft_basement and SalesPrice. Each point corresponds to a house, showing how the size of the basement (in square feet) affects the price of the house.\n",
    "- Most of the SalesPrice per Square Footage for both Basement and Above lie between 0 to 0.5.\n",
    "- There are few Square Footage greater then 8000 in the same price between range  0 to 0.5.\n",
    "- Were as few Square Footage less then 2000 and the price is the higest i.e is > 2.5."
   ]
  },
  {
   "cell_type": "markdown",
   "id": "34ccfc46-f9ca-4f77-aba5-7620e030681c",
   "metadata": {},
   "source": [
    "#### Polynomial Regression (Total 10 points):\n",
    "#### 9.Use a polynomial feature's function and implement a polynomial regression model of degree 2 for the features sqft_basement and the target variable. Print R squared (R²) score. (4 points)\n",
    "\n",
    "Polynomial regression allows us to fit a nonlinear relationship between the features and the target variable. To implement this for sqft_basement and SalesPrice, we can use PolynomialFeatures from sklearn."
   ]
  },
  {
   "cell_type": "code",
   "execution_count": 40,
   "id": "ee795ed4-16cd-4352-bb96-ce3f2af3bf27",
   "metadata": {},
   "outputs": [
    {
     "name": "stdout",
     "output_type": "stream",
     "text": [
      "R squared (R²) score for degree 2: 0.0028\n"
     ]
    }
   ],
   "source": [
    "from sklearn.preprocessing import PolynomialFeatures\n",
    "from sklearn.linear_model import LinearRegression\n",
    "from sklearn.model_selection import train_test_split\n",
    "from sklearn.metrics import r2_score\n",
    "\n",
    "# Select the feature (sqft_basement) and target (SalesPrice)\n",
    "X = housing_df[[\"sqft_basement\"]].values\n",
    "y = housing_df[\"SalesPrice\"].values\n",
    "\n",
    "# Create polynomial features of degree 2\n",
    "poly = PolynomialFeatures(degree=2)\n",
    "X_poly = poly.fit_transform(X)\n",
    "\n",
    "# Split data into training and testing sets\n",
    "X_train, X_test, y_train, y_test = train_test_split(X_poly, y, test_size=0.2, random_state=42)\n",
    "\n",
    "# Fit the model\n",
    "model = LinearRegression()\n",
    "model.fit(X_train, y_train)\n",
    "\n",
    "# Predict and calculate R squared\n",
    "y_pred = model.predict(X_test)\n",
    "r2 = r2_score(y_test, y_pred)\n",
    "\n",
    "# Print R squared score\n",
    "print(f\"R squared (R²) score for degree 2: {r2:.4f}\")"
   ]
  },
  {
   "cell_type": "markdown",
   "id": "b7dc7e98-d570-40d7-810b-64257df082b0",
   "metadata": {},
   "source": [
    "#### Explanation:\n",
    "\n",
    "- **PolynomialFeatures(degree=2)**: Transforms the feature (sqft_basement) into polynomial features of degree 2, i.e., it creates sqft_basement and sqft_basement^2.\n",
    "- **train_test_split()**: Splits the dataset into training and test sets (80% training, 20% testing).\n",
    "- **model.fit()**: Trains the linear regression model on the polynomial features.\n",
    "- **r2_score()**: Calculates the R² score to evaluate the model's accuracy which is 0.0028"
   ]
  },
  {
   "cell_type": "markdown",
   "id": "559960b9-7766-402f-a79b-b8d7e28aaaae",
   "metadata": {},
   "source": [
    "#### 10.Experiment with different polynomial degrees and find the best fit as per your perspective. (4 points)\n",
    "This code loops through different degrees (10, 21, 37, etc.), fits the polynomial regression model for each degree, and prints the corresponding R² scores."
   ]
  },
  {
   "cell_type": "code",
   "execution_count": 43,
   "id": "8bef5e01-4d0f-47af-ac32-0dee710f83ba",
   "metadata": {},
   "outputs": [
    {
     "name": "stdout",
     "output_type": "stream",
     "text": [
      "Degree 10 - R squared (R²) score: -1.6151\n",
      "Degree 21 - R squared (R²) score: -1206297.3495\n",
      "Degree 37 - R squared (R²) score: -130568107.3063\n",
      "Degree 44 - R squared (R²) score: -17981733669.3983\n",
      "Degree 59 - R squared (R²) score: -0.0013\n"
     ]
    }
   ],
   "source": [
    "degrees = [10, 21, 37, 44, 59]\n",
    "for degree in degrees:\n",
    "    poly = PolynomialFeatures(degree=degree)\n",
    "    X_poly = poly.fit_transform(X)\n",
    "    \n",
    "    # Split data into training and testing sets\n",
    "    X_train, X_test, y_train, y_test = train_test_split(X_poly, y, test_size=0.2, random_state=42)\n",
    "    \n",
    "    # Fit the model\n",
    "    model = LinearRegression()\n",
    "    model.fit(X_train, y_train)\n",
    "    \n",
    "    # Predict and calculate R squared\n",
    "    y_pred = model.predict(X_test)\n",
    "    r2 = r2_score(y_test, y_pred)\n",
    "    \n",
    "    print(f\"Degree {degree} - R squared (R²) score: {r2:.4f}\")"
   ]
  },
  {
   "cell_type": "markdown",
   "id": "785a56a4-126f-4eec-ac40-63c2c9e00752",
   "metadata": {},
   "source": [
    "**Output Explaination:-**\n",
    "\n",
    "As the degree of the polynomial increases, the R² score becomes increasingly negative, indicating overfitting. The model starts to fit the noise in the data rather than the underlying trend, leading to poor generalization. A negative R² score means the model performs worse than a simple mean-based model, signaling that the higher-degree polynomials are not improving the model’s accuracy."
   ]
  },
  {
   "cell_type": "markdown",
   "id": "9ff74875-f6ed-4514-af47-82636eacab5b",
   "metadata": {},
   "source": [
    "#### 11.Plot the polynomial regression curve along with the actual data points. (2 points)"
   ]
  },
  {
   "cell_type": "code",
   "execution_count": 46,
   "id": "1ec08a46-353a-4508-b245-59babe120f8a",
   "metadata": {},
   "outputs": [
    {
     "data": {
      "image/png": "[encoded data removed]",
      "text/plain": [
       "<Figure size 640x480 with 1 Axes>"
      ]
     },
     "metadata": {},
     "output_type": "display_data"
    }
   ],
   "source": [
    "poly = PolynomialFeatures(degree=2)\n",
    "X_poly = poly.fit_transform(X)\n",
    "\n",
    "# Fit the model\n",
    "model = LinearRegression()\n",
    "model.fit(X_poly, y)\n",
    "\n",
    "# Predict values\n",
    "y_pred = model.predict(X_poly)\n",
    "\n",
    "# Sort data for smooth plotting\n",
    "X_sorted = np.sort(X, axis=0)\n",
    "\n",
    "# Create polynomial features for the sorted data for plotting\n",
    "X_sorted_poly = poly.transform(X_sorted)\n",
    "\n",
    "# Plot the actual data points and the polynomial regression curve\n",
    "plt.scatter(X, y, color='blue', label=\"Actual data\")\n",
    "plt.plot(X_sorted, model.predict(X_sorted_poly), color='red', label=\"Polynomial regression (degree=2)\")\n",
    "plt.xlabel(\"Square footage of basement\")\n",
    "plt.ylabel(\"SalesPrice\")\n",
    "plt.legend()\n",
    "plt.title(\"Polynomial Regression Curve\")\n",
    "plt.show()"
   ]
  },
  {
   "cell_type": "markdown",
   "id": "04bd74e5-35f0-421a-b86c-37fad7590ba5",
   "metadata": {},
   "source": [
    "**Insights:**\n",
    "- These points represent the actual data for sqft_basement and SalesPrice. Each point corresponds to a house, showing how the size of the basement (in square feet) affects the price of the house.\n",
    "- Most of the SalesPrice per Square Footage for both Basement and Above lie between 0 to 0.5.\n",
    "- There are few Square Footage greater then 8000 in the same price between range  0 to 0.5.\n",
    "- Were as few Square Footage less then 2000 and the price is the higest i.e is > 2.5.\n",
    "- The red line represents the polynomial regression model fitted to the data with a degree of 2. This curve shows the predicted SalesPrice values based on the sqft_basement feature, capturing non-linear patterns."
   ]
  },
  {
   "cell_type": "markdown",
   "id": "ecef4fd9-fc2d-4a89-b0ad-f9fcda784ae9",
   "metadata": {},
   "source": [
    "#### Model Evaluation (Total 5 points):\n",
    "#### 12.Compare the results and discuss which model(s) is best to predict housing prices. (5 points)\n",
    "As we have multiple models (simple linear regression, multivariate linear regression, and polynomial regression), we compare them based on their R² scores and choose the best model for predicting housing prices."
   ]
  },
  {
   "cell_type": "markdown",
   "id": "6dcfbb75-9a41-43da-bb86-1b7257332c92",
   "metadata": {},
   "source": [
    "#### **Model Evaluation:**\n",
    "\n",
    "To compare the different models (Simple Linear Regression, Multivariate Linear Regression, and Polynomial Regression), we focus on their **R² scores**, which indicate how well each model fits the data. The higher the R² score, the better the model explains the variation in housing prices.\n",
    "\n",
    "#### **Comparison:**\n",
    "\n",
    "- **Simple Linear Regression**: \n",
    "  - Best for when there’s a simple, linear relationship between a single feature and the target variable (e.g., sqft_basement and SalesPrice).\n",
    "  - If the R² score is low, it means the model isn’t explaining much of the variation in the data.\n",
    "\n",
    "- **Polynomial Regression**: \n",
    "  - Ideal for capturing **nonlinear relationships** between the features and the target variable. \n",
    "  - Higher-degree polynomials can provide more flexibility, but if the degree is too high, the model may **overfit**, meaning it performs well on training data but poorly on unseen data.\n",
    "  - Typically, the R² score improves with higher degrees, but be cautious of overfitting.\n",
    "\n",
    "- **Multivariate Linear Regression**: \n",
    "  - Useful when multiple relevant features (e.g., sqft_basement, sqft_living, Year Built) are available.\n",
    "  - If the R² score is higher than the others, this model might be the best choice for predicting housing prices because it considers more factors.\n",
    "\n",
    "#### **Conclusion:**\n",
    "\n",
    "- **Simple Linear Regression** is best when only one feature has a strong relationship with the target.\n",
    "- **Polynomial Regression** can capture more complex patterns but requires careful tuning to avoid overfitting.\n",
    "- **Multivariate Linear Regression** is often the best when multiple relevant features are available, as it can provide a more accurate prediction by considering various factors.\n",
    "\n",
    "In general, **choose the model with the highest R² score** for the most accurate prediction of housing prices.\n"
   ]
  },
  {
   "cell_type": "code",
   "execution_count": 12,
   "id": "03774fc9-b4b1-4827-bb99-5ea289fe0667",
   "metadata": {},
   "outputs": [],
   "source": [
    "#######################################################################################################################################################"
   ]
  },
  {
   "cell_type": "markdown",
   "id": "dd544ca5-c575-4f55-8c9b-98c77c912464",
   "metadata": {},
   "source": [
    "#### Q3: Life Expectancy (40 Points)\n",
    "#### 1.Load the dataset and present the statistics of data.(2 points)"
   ]
  },
  {
   "cell_type": "code",
   "execution_count": 3,
   "id": "a21af7a9-832f-44e7-bc8c-fe40d2f390b6",
   "metadata": {},
   "outputs": [
    {
     "name": "stdout",
     "output_type": "stream",
     "text": [
      "              Year  Life expectancy  Adult Mortality  infant deaths  \\\n",
      "count  2938.000000      2938.000000      2938.000000    2938.000000   \n",
      "mean   2007.518720        69.234717       164.725664      30.303948   \n",
      "std       4.613841         9.509115       124.086215     117.926501   \n",
      "min    2000.000000        36.300000         1.000000       0.000000   \n",
      "25%    2004.000000        63.200000        74.000000       0.000000   \n",
      "50%    2008.000000        72.100000       144.000000       3.000000   \n",
      "75%    2012.000000        75.600000       227.000000      22.000000   \n",
      "max    2015.000000        89.000000       723.000000    1800.000000   \n",
      "\n",
      "           Alcohol  percentage expenditure  Hepatitis B        Measles  \\\n",
      "count  2938.000000             2938.000000  2938.000000    2938.000000   \n",
      "mean      4.546875              738.251295    83.022124    2419.592240   \n",
      "std       3.921946             1987.914858    22.996984   11467.272489   \n",
      "min       0.010000                0.000000     1.000000       0.000000   \n",
      "25%       1.092500                4.685343    82.000000       0.000000   \n",
      "50%       3.755000               64.912906    92.000000      17.000000   \n",
      "75%       7.390000              441.534144    96.000000     360.250000   \n",
      "max      17.870000            19479.911610    99.000000  212183.000000   \n",
      "\n",
      "               BMI  under-five deaths         Polio  Total expenditure  \\\n",
      "count  2938.000000         2938.000000  2938.000000        2938.000000   \n",
      "mean     38.381178           42.035739    82.617767           5.924098   \n",
      "std      19.935375          160.445548    23.367166           2.400770   \n",
      "min       1.000000            0.000000     3.000000           0.370000   \n",
      "25%      19.400000            0.000000    78.000000           4.370000   \n",
      "50%      43.500000            4.000000    93.000000           5.755000   \n",
      "75%      56.100000           28.000000    97.000000           7.330000   \n",
      "max      87.300000         2500.000000    99.000000          17.600000   \n",
      "\n",
      "        Diphtheria     HIV/AIDS            GDP    Population  \\\n",
      "count  2938.000000  2938.000000    2938.000000  2.938000e+03   \n",
      "mean     82.393125     1.742103    6611.523863  1.023085e+07   \n",
      "std      23.655562     5.077785   13296.603449  5.402242e+07   \n",
      "min       2.000000     0.100000       1.681350  3.400000e+01   \n",
      "25%      78.000000     0.100000     580.486996  4.189172e+05   \n",
      "50%      93.000000     0.100000    1766.947595  1.386542e+06   \n",
      "75%      97.000000     0.800000    4779.405190  4.584371e+06   \n",
      "max      99.000000    50.600000  119172.741800  1.293859e+09   \n",
      "\n",
      "       thinness  1-19 years  thinness 5-9 years  \\\n",
      "count           2938.000000         2938.000000   \n",
      "mean               4.821886            4.852144   \n",
      "std                4.397621            4.485854   \n",
      "min                0.100000            0.100000   \n",
      "25%                1.600000            1.600000   \n",
      "50%                3.300000            3.300000   \n",
      "75%                7.100000            7.200000   \n",
      "max               27.700000           28.600000   \n",
      "\n",
      "       Income composition of resources    Schooling  \n",
      "count                      2938.000000  2938.000000  \n",
      "mean                          0.630362    12.009837  \n",
      "std                           0.205140     3.265139  \n",
      "min                           0.000000     0.000000  \n",
      "25%                           0.504250    10.300000  \n",
      "50%                           0.677000    12.300000  \n",
      "75%                           0.772000    14.100000  \n",
      "max                           0.948000    20.700000  \n"
     ]
    }
   ],
   "source": [
    "LifeEx_df = pd.read_csv(r'F:/LifeExpectancy.csv')\n",
    "\n",
    "# Summary statistics\n",
    "print(LifeEx_df.describe())"
   ]
  },
  {
   "cell_type": "markdown",
   "id": "b400ae93-ec0e-4c03-a086-ede68aad5567",
   "metadata": {},
   "source": [
    "#### 2.Specify the target variable from the dataset. Mention reasons. (2 points)"
   ]
  },
  {
   "cell_type": "markdown",
   "id": "ddf50726-75e8-4d9c-8eb6-8d02693a8db9",
   "metadata": {},
   "source": [
    "The target variable is usually the one we want to predict or analyze. In the given data, the target variable is \"Life expectancy\" because:\n",
    "- It is a key indicator of public health and is influenced by various independent factors like healthcare, education, income, and other socio-economic -indicators present in the dataset.\n",
    "- The goal of many studies using such data is to predict or analyze factors affecting life expectancy."
   ]
  },
  {
   "cell_type": "markdown",
   "id": "30fedd62-3e6c-4121-be10-3bf196e4fd3b",
   "metadata": {},
   "source": [
    "#### 3.Categorize the columns into categorical and continuous.(2 points)\n",
    "Categorical Columns:\n",
    "\n",
    "- \"Country\": Represents the name of the country, which is qualitative and cannot be measured numerically.\n",
    "- \"Year\": Represents time, but in this context, it is treated as a label or category rather than a numerical value.\n",
    "- \"Status\": Indicates whether a country is \"Developing\" or \"Developed,\" which is a qualitative classification.\n",
    "\n",
    "Continuous Columns:\n",
    "\n",
    "- \"Life expectancy\": A numeric value indicating the average life expectancy.\n",
    "- \"Adult Mortality\", \"GDP\", \"Population\", \"BMI\", etc., are numeric and measurable with a wide range of possible values."
   ]
  },
  {
   "cell_type": "code",
   "execution_count": 6,
   "id": "de91e30d-c00e-4b0f-8685-00f62a1d9331",
   "metadata": {},
   "outputs": [
    {
     "name": "stdout",
     "output_type": "stream",
     "text": [
      "Categorical columns: ['Country', 'Year', 'Status']\n",
      "Continuous columns: ['Life expectancy', 'Adult Mortality', 'infant deaths', 'Alcohol', 'percentage expenditure', 'Hepatitis B', 'Measles', 'BMI', 'under-five deaths ', 'Polio', 'Total expenditure', 'Diphtheria', ' HIV/AIDS', 'GDP', 'Population', 'thinness  1-19 years', 'thinness 5-9 years', 'Income composition of resources', 'Schooling']\n"
     ]
    }
   ],
   "source": [
    "# Categorical and continuous classification\n",
    "categorical_columns = [\"Country\", \"Year\", \"Status\"]\n",
    "continuous_columns = [col for col in LifeEx_df.columns if col not in categorical_columns]\n",
    "\n",
    "print(\"Categorical columns:\", categorical_columns)\n",
    "print(\"Continuous columns:\", continuous_columns)"
   ]
  },
  {
   "cell_type": "markdown",
   "id": "ff82955b-7932-4185-9f96-baac6fa40bfa",
   "metadata": {},
   "source": [
    "#### 4. Are there any missing values in the dataset. Mention the approaches to deal with the missing data. Explain the role of Exploratory Data Analysis (EDA) to fill the missing data? (3 points)\n",
    "Approaches to Deal with Missing Data\n",
    "\n",
    "For Numerical Columns:\n",
    "\n",
    "- Replace missing values with the mean, median, or mode of the column.\n",
    "- Drop rows or columns with too many missing values if they are not critical for analysis.\n",
    "\n",
    "For Categorical Columns:\n",
    "\n",
    "- Replace missing values with the most frequent value (mode).\n",
    "- Use an \"unknown\" category to fill missing values.\n",
    "- Drop rows or columns if the data is insufficient for analysis."
   ]
  },
  {
   "cell_type": "code",
   "execution_count": 8,
   "id": "ec1c2307-9a12-416d-8995-8c334d99ec22",
   "metadata": {},
   "outputs": [
    {
     "name": "stdout",
     "output_type": "stream",
     "text": [
      "Missing values in each column:\n",
      "Country                            0\n",
      "Year                               0\n",
      "Status                             0\n",
      "Life expectancy                    0\n",
      "Adult Mortality                    0\n",
      "infant deaths                      0\n",
      "Alcohol                            0\n",
      "percentage expenditure             0\n",
      "Hepatitis B                        0\n",
      "Measles                            0\n",
      "BMI                                0\n",
      "under-five deaths                  0\n",
      "Polio                              0\n",
      "Total expenditure                  0\n",
      "Diphtheria                         0\n",
      " HIV/AIDS                          0\n",
      "GDP                                0\n",
      "Population                         0\n",
      "thinness  1-19 years               0\n",
      "thinness 5-9 years                 0\n",
      "Income composition of resources    0\n",
      "Schooling                          0\n",
      "dtype: int64\n"
     ]
    }
   ],
   "source": [
    "print(\"Missing values in each column:\")\n",
    "print(LifeEx_df.isnull().sum())"
   ]
  },
  {
   "cell_type": "markdown",
   "id": "6a3b6aa7-a72d-44f8-b582-8003aa7dd93e",
   "metadata": {},
   "source": [
    "To chcek missing values in the data we used **isnull()** function. The avove result indicates there is **no missing values** in the data.\n",
    "\n",
    "Role of EDA in Handling Missing Data\n",
    "\n",
    "EDA helps identify patterns and decide how to handle missing values:\n",
    "\n",
    "1)**Understanding Distribution**: Visualizing the data (e.g., with histograms or boxplots) can help identify whether the missing values are random or follow a trend.\n",
    "\n",
    "2)**Correlation Analysis**: Missing values in one column may correlate with another variable, allowing more informed imputations.\n",
    "\n",
    "3)**Impact Assessment**: By analyzing how missing values affect the target variable, you can decide whether to drop or impute them.\n",
    "Visualization: Heatmaps or missing-value bar plots show how widespread the missing values are."
   ]
  },
  {
   "cell_type": "markdown",
   "id": "8c67a354-b3f6-4bd6-8bf2-e3df6bf18d6a",
   "metadata": {},
   "source": [
    "#### 5.Explain what is label encoding and how it changes the dataset. Perform label encoding to the dataset. Justify your answer. (4 points)\n",
    "\n",
    "Label Encoding is a method of converting categorical (non-numeric) data into numerical values. It assigns a unique number to each category in the dataset. For example:\n",
    "\n",
    "| **Original Data** | **Encoded Data** |\n",
    "|--------------------|------------------|\n",
    "| Developing         | 0                |\n",
    "| Developed          | 1                |\n",
    "\n",
    "This process is essential for machine learning algorithms because most algorithms require numerical input to work effectively.\n",
    "\n",
    "How Label Encoding Changes the Dataset\n",
    "\n",
    "- **Transforms Categorical Data:** Converts text categories into integers, making the data suitable for numerical computations.\n",
    "- **Improves Model Performance:** Numerical representation allows algorithms like regression or gradient descent to interpret the data correctly.\n",
    "- **Retains Original Information:** Label encoding ensures no data is lost; the categories are just represented numerically."
   ]
  },
  {
   "cell_type": "code",
   "execution_count": 10,
   "id": "7e8e7225-cc51-4acf-b909-040cf0d267c4",
   "metadata": {},
   "outputs": [
    {
     "name": "stdout",
     "output_type": "stream",
     "text": [
      "0       1\n",
      "1       1\n",
      "2       1\n",
      "3       1\n",
      "4       1\n",
      "       ..\n",
      "2933    1\n",
      "2934    1\n",
      "2935    1\n",
      "2936    1\n",
      "2937    1\n",
      "Name: Status, Length: 2938, dtype: int64\n"
     ]
    }
   ],
   "source": [
    "from sklearn.preprocessing import LabelEncoder\n",
    "\n",
    "# Label Encoding\n",
    "label_encoder = LabelEncoder()\n",
    "LifeEx_df['Status'] = label_encoder.fit_transform(LifeEx_df['Status'])  # Example: \"Developing\" -> 0\n",
    "\n",
    "print(LifeEx_df['Status'])"
   ]
  },
  {
   "cell_type": "markdown",
   "id": "bc4d0000-7d8a-498d-aae8-4a3af893b14e",
   "metadata": {},
   "source": [
    "Justification\n",
    "\n",
    "1. Why Label Encoding on Status?\n",
    "\n",
    "- Status is a categorical column with text values (\"Developing\" and \"Developed\"). These need to be converted into numerical values for models like linear regression.\n",
    "- It is a binary variable, so label encoding works perfectly without introducing unnecessary complexity.\n",
    "  \n",
    "2. No Loss of Meaning: Since the dataset has only two categories in Status, label encoding effectively captures the distinction between the two."
   ]
  },
  {
   "cell_type": "markdown",
   "id": "0cf0d395-a5d6-4f0e-bb3a-eb4427da811f",
   "metadata": {},
   "source": [
    "#### 6. Perform data normalization on ‘Population', 'Total expenditure', 'Income composition of resources’ numerical columns using StandardScaler(). (3 points)"
   ]
  },
  {
   "cell_type": "code",
   "execution_count": 14,
   "id": "5969234a-b61b-4328-8c10-13ec9aae8a63",
   "metadata": {},
   "outputs": [
    {
     "name": "stdout",
     "output_type": "stream",
     "text": [
      "   Population  Total expenditure  Income composition of resources\n",
      "0    0.435183           0.931485                        -0.737973\n",
      "1   -0.183349           0.939818                        -0.752600\n",
      "2    0.398066           0.918987                        -0.781853\n",
      "3   -0.120968           1.081463                        -0.815982\n",
      "4   -0.134268           0.810670                        -0.859862\n"
     ]
    }
   ],
   "source": [
    "from sklearn.preprocessing import StandardScaler\n",
    "\n",
    "scaler = StandardScaler()\n",
    "columns_to_normalize = [\"Population\", \"Total expenditure\", \"Income composition of resources\"]\n",
    "\n",
    "LifeEx_df[columns_to_normalize] = scaler.fit_transform(LifeEx_df[columns_to_normalize])\n",
    "print(LifeEx_df[columns_to_normalize].head())"
   ]
  },
  {
   "cell_type": "markdown",
   "id": "cb3a5986-161c-4ae6-8a48-5cb0a841fd58",
   "metadata": {},
   "source": [
    "#### 7.Explain the importance of normalizing the data and the various approaches in normalizing the data? (3 points)"
   ]
  },
  {
   "cell_type": "markdown",
   "id": "1c4b5300-4caf-4f65-b4f8-0064984cf932",
   "metadata": {},
   "source": [
    "Importance of Normalizing Data\n",
    "Normalization is a data preprocessing technique used to scale numerical values to a standard range (often 0 to 1 or with a mean of 0 and standard deviation of 1). It is crucial because:\n",
    "\n",
    "1. Improves Model Performance: Many machine learning algorithms (e.g., gradient descent, KNN, SVM) are sensitive to the scale of input data. Normalization ensures all features contribute equally to the model.\n",
    "\n",
    "2. Speeds Up Convergence: Normalizing data helps optimization algorithms converge faster during training.\n",
    "\n",
    "3. Reduces Bias: Features with larger scales can dominate others in distance-based algorithms (e.g., KNN, clustering). Normalization ensures no single feature unfairly influences the results.\n",
    "\n",
    "4. Handles Outliers: While not solving the problem completely, normalization reduces the impact of outliers by scaling all features proportionally.\n",
    "\n",
    "**Approaches to Normalizing Data**\n",
    "\n",
    "**1.Min-Max Normalization:**\n",
    "\n",
    "Scales data to a fixed range, typically\n",
    "Formula:\n",
    "  x` =    max(x)−min(x)/x−min(x)\n",
    " \n",
    "Example: If the data ranges from 10 to 100, 50 would be scaled as:\n",
    "\n",
    "x` =   100−10 / 50-10     = 0.44\n",
    "\n",
    "Use case: Useful when the dataset has no outliers.\n",
    "\n",
    "**2.Z Score Normalization (Standardization):**\n",
    "\n",
    "Scales data so that it has a mean of 0 and a standard deviation of 1.\n",
    "\n",
    "Formula:\n",
    "𝑧 = 𝑥 − 𝜇 / 𝜎\n",
    "\n",
    "Where 𝜇 is the mean and 𝜎 is the standard deviation.\n",
    "\n",
    "Use case: Effective when data has varying scales and outliers.\n",
    "\n",
    "**3.Robust Normalization:**\n",
    "\n",
    "Scales data based on the median and interquartile range (IQR), making it robust to outliers.\n",
    "\n",
    "Formula:\n",
    "  x'= x−median(x)/IQR\n",
    "\n",
    "**4.Log Transformation:**\n",
    "\n",
    "Used to reduce skewness and normalize data with exponential growth patterns.\n",
    "\n",
    "Formula:\n",
    "𝑥 ′ =log(x+1)\n"
   ]
  },
  {
   "cell_type": "markdown",
   "id": "1370a4ce-b94e-4526-8969-df61a24d7786",
   "metadata": {},
   "source": [
    "#### 8.Drop the column ‘country’ and 'status' from the dataset and split the dataset into training and testing in a 90:10 split. Print the head for the training set. (6 points)"
   ]
  },
  {
   "cell_type": "code",
   "execution_count": 18,
   "id": "ffe1a82b-61d1-4134-bcaf-ed498430d7e0",
   "metadata": {},
   "outputs": [
    {
     "name": "stdout",
     "output_type": "stream",
     "text": [
      "Training set:\n",
      "      Year  Adult Mortality  infant deaths  Alcohol  percentage expenditure  \\\n",
      "2752  2009             84.0              1     1.73              292.402267   \n",
      "2486  2002            221.0              0     4.41              250.711237   \n",
      "642   2014             97.0              0    12.14             1884.098811   \n",
      "1229  2004            139.0             28     0.01                0.000000   \n",
      "1583  2002             67.0             46     1.10                3.885395   \n",
      "\n",
      "      Hepatitis B  Measles   BMI  under-five deaths   Polio  \\\n",
      "2752         93.0        0  55.1                   1   94.0   \n",
      "2486         92.0        0  49.0                   0   74.0   \n",
      "642          95.0        0  63.1                   0   95.0   \n",
      "1229         95.0        3  47.6                  33   98.0   \n",
      "1583         64.0       92  14.8                  75   79.0   \n",
      "\n",
      "      Total expenditure  Diphtheria   HIV/AIDS           GDP  Population  \\\n",
      "2752          -0.593285        93.0        0.1   3372.575170   -0.163743   \n",
      "2486           0.506549        73.0        1.6   2232.513244   -0.188519   \n",
      "642            0.781508        95.0        0.1  13467.468270   -0.110944   \n",
      "1229          -0.014205        99.0        0.1   1766.947595   -0.163743   \n",
      "1583          -0.459972        64.0       24.7     29.979898   -0.166943   \n",
      "\n",
      "      thinness  1-19 years  thinness 5-9 years  \\\n",
      "2752                   5.1                 4.9   \n",
      "2486                   3.5                 3.5   \n",
      "642                    1.5                 1.5   \n",
      "1229                   7.4                 7.7   \n",
      "1583                   7.7                 7.6   \n",
      "\n",
      "      Income composition of resources  Schooling  \n",
      "2752                         0.978223       13.2  \n",
      "2486                        -3.073366       11.0  \n",
      "642                          0.924592       15.1  \n",
      "1229                         0.271267       11.8  \n",
      "1583                        -1.181649       10.4  \n"
     ]
    }
   ],
   "source": [
    "from sklearn.linear_model import LinearRegression\n",
    "from sklearn.metrics import mean_absolute_error\n",
    "from sklearn.model_selection import train_test_split\n",
    "\n",
    "# Drop the 'Country' and 'Status' columns\n",
    "df_cleaned = LifeEx_df.drop(['Country', 'Status'], axis=1)\n",
    "\n",
    "# Define the target variable ('Life expectancy') and feature variables\n",
    "X = df_cleaned.drop('Life expectancy', axis=1)  # Features\n",
    "y = df_cleaned['Life expectancy']               # Target\n",
    "\n",
    "# Split the dataset into training (90%) and testing (10%) sets\n",
    "X_train, X_test, y_train, y_test = train_test_split(X, y, test_size=0.1, random_state=42)\n",
    "\n",
    "# Display the head of the training set\n",
    "print(\"Training set:\")\n",
    "print(X_train.head())"
   ]
  },
  {
   "cell_type": "markdown",
   "id": "650fcaa9-c632-4a9d-88e9-10ee49afbe42",
   "metadata": {},
   "source": [
    "**Explanation of Key Points**\n",
    "\n",
    "**Drop Columns:**\n",
    "\n",
    "The Country and Status columns are not useful for numerical modeling, so we remove them using df.drop().\n",
    "\n",
    "axis=1 ensures columns are dropped, not rows.\n",
    "\n",
    "**Define Features (X) and Target (y):**\n",
    "\n",
    "X: All columns except the target variable (Life expectancy).\n",
    "\n",
    "y: The target variable we want to predict.\n",
    "    \n",
    "**Split Data:**\n",
    "\n",
    "train_test_split splits the data into training (90%) and testing (10%) sets.\n",
    "                                                                  \n",
    "random_state=42 ensures reproducibility (you get the same split each time you run the code).\n",
    "\n",
    "**Error Resolution:**\n",
    "\n",
    "Ensure X_train and X_test are used for features and y_train and y_test for the target in subsequent steps. Avoid using undefined variables like train or test."
   ]
  },
  {
   "cell_type": "markdown",
   "id": "edac602e-3199-424c-a8c5-f0195df227c9",
   "metadata": {},
   "source": [
    "#### 9.Build a linear regression model using the training and testing datasets and compute mean absolute error. (6 points)\n",
    "\n",
    "\n",
    "The Mean Absolute Error (MAE) measures the average absolute difference between predicted and actual values, providing an easy-to-understand metric for model accuracy. Lower MAE indicates better model performance as it means the predictions are closer to the actual outcomes.\n",
    "\n",
    "Here’s how to compute MAE using Python:"
   ]
  },
  {
   "cell_type": "code",
   "execution_count": 19,
   "id": "73c5734f-c702-433f-9ad3-3d307e0f28ba",
   "metadata": {},
   "outputs": [
    {
     "name": "stdout",
     "output_type": "stream",
     "text": [
      "SGD MAE: 3.802247368041831e+16\n"
     ]
    }
   ],
   "source": [
    "from sklearn.linear_model import SGDRegressor\n",
    "\n",
    "sgd_model = SGDRegressor(learning_rate=\"invscaling\", eta0=0.001, max_iter=1000)\n",
    "sgd_model.fit(X_train, y_train)\n",
    "\n",
    "sgd_predictions = sgd_model.predict(X_test)\n",
    "sgd_mae = mean_absolute_error(y_test, sgd_predictions)\n",
    "print(\"SGD MAE:\", sgd_mae)"
   ]
  },
  {
   "cell_type": "markdown",
   "id": "eeb9573f-c712-4c8b-a8a1-d0c5b3701e62",
   "metadata": {},
   "source": [
    "#### 10.Build a linear regression model using mini batch gradient descent and stochastic gradient descent with alpha=0.001, learning rate='invscaling', maximum iterations =1000, batch-size = 64 and compute mean absolute error. (6 points)\n",
    "\n",
    "To build a linear regression model using Mini-Batch Gradient Descent and Stochastic Gradient Descent (SGD), we can use the SGDRegressor class from scikit-learn. "
   ]
  },
  {
   "cell_type": "code",
   "execution_count": 21,
   "id": "91cb66a3-68c3-4c0f-ade3-08e0b31360cc",
   "metadata": {},
   "outputs": [
    {
     "name": "stdout",
     "output_type": "stream",
     "text": [
      "MAE using Mini-Batch Gradient Descent: 2.9003448986197875\n",
      "MAE using Stochastic Gradient Descent: 2.9003448986197875\n"
     ]
    }
   ],
   "source": [
    "from sklearn.linear_model import SGDRegressor\n",
    "from sklearn.metrics import mean_absolute_error\n",
    "from sklearn.preprocessing import StandardScaler\n",
    "\n",
    "# Scale the features\n",
    "scaler = StandardScaler()\n",
    "X_train_scaled = scaler.fit_transform(X_train)\n",
    "X_test_scaled = scaler.transform(X_test)\n",
    "\n",
    "# Define the SGD Regressor with Mini-Batch Gradient Descent\n",
    "mini_batch_model = SGDRegressor(\n",
    "    alpha=0.001,\n",
    "    learning_rate='invscaling',\n",
    "    max_iter=1000,\n",
    "    tol=1e-3,\n",
    "    random_state=42\n",
    ")\n",
    "\n",
    "# Fit the model to the training data\n",
    "mini_batch_model.fit(X_train_scaled, y_train)\n",
    "\n",
    "# Predict on the test set\n",
    "y_pred_mini_batch = mini_batch_model.predict(X_test_scaled)\n",
    "\n",
    "# Compute Mean Absolute Error for Mini-Batch Gradient Descent\n",
    "mae_mini_batch = mean_absolute_error(y_test, y_pred_mini_batch)\n",
    "print(f\"MAE using Mini-Batch Gradient Descent: {mae_mini_batch}\")\n",
    "\n",
    "# Define the SGD Regressor with Stochastic Gradient Descent\n",
    "stochastic_model = SGDRegressor(\n",
    "    alpha=0.001,\n",
    "    learning_rate='invscaling',\n",
    "    max_iter=1000,\n",
    "    random_state=42\n",
    ")\n",
    "\n",
    "# Fit the model to the training data\n",
    "stochastic_model.fit(X_train_scaled, y_train)\n",
    "\n",
    "# Predict on the test set\n",
    "y_pred_stochastic = stochastic_model.predict(X_test_scaled)\n",
    "\n",
    "# Compute Mean Absolute Error for Stochastic Gradient Descent\n",
    "mae_stochastic = mean_absolute_error(y_test, y_pred_stochastic)\n",
    "print(f\"MAE using Stochastic Gradient Descent: {mae_stochastic}\")"
   ]
  },
  {
   "cell_type": "markdown",
   "id": "459983b9-ec55-4111-ac45-3a8c4a2657b7",
   "metadata": {},
   "source": [
    "**Explanation**\n",
    "  \n",
    "1. **Mini-Batch Gradient Descent:**\n",
    "\n",
    "- In SGDRegressor, batches are automatically processed for optimization.\n",
    "- Key parameters:\n",
    "  - alpha=0.001: Regularization strength.\n",
    "  - learning_rate='invscaling': Learning rate decreases over iterations.\n",
    "  - max_iter=1000: Maximum iterations for convergence.\n",
    "  - batch-size=64: Although not directly configurable, SGDRegressor inherently supports batching.\n",
    "      \n",
    "2.**Stochastic Gradient Descent:**\n",
    "\n",
    "- Similar to Mini-Batch but processes one data point at a time.\n",
    "- Shares the same parameters as Mini-Batch in this implementation.\n",
    "      \n",
    "3.**Feature Scaling:**\n",
    "\n",
    "- Gradient-based methods like SGD require feature scaling, which is done using StandardScaler.\n",
    "\n",
    "**Evaluation:**\n",
    "\n",
    "- The Mean Absolute Error (MAE) is computed for both methods to compare performance."
   ]
  },
  {
   "cell_type": "markdown",
   "id": "9b3c604f-4058-45f1-a006-bbd4511fd4e8",
   "metadata": {},
   "source": [
    "#### 11.Discuss the above performed methods by applying different learning rates. Which is the best learning rate for the model and why? (3 points)"
   ]
  },
  {
   "cell_type": "markdown",
   "id": "c151676b-f3dc-4c6c-860a-c890360a491c",
   "metadata": {},
   "source": [
    "The learning rate in gradient descent methods controls how much the model weights are adjusted with each iteration. Choosing an appropriate learning rate is crucial, as it influences the model's performance and convergence speed. Let's discuss the different learning rates and their impact on the model:\n",
    "\n",
    "---\n",
    "\n",
    "#### Types of Learning Rates\n",
    "\n",
    "1. **Constant Learning Rate**:\n",
    "   - The learning rate is fixed throughout the training process.\n",
    "   - **Advantages**: Simple to implement, suitable for small and stable datasets.\n",
    "   - **Disadvantages**: May cause the model to converge too slowly (if the learning rate is too small) or overshoot the optimal point (if too large).\n",
    "\n",
    "2. **Learning Rate Decay**:\n",
    "   - The learning rate decreases as training progresses.\n",
    "   - **Advantages**: Helps the model converge faster initially and then fine-tune with smaller steps towards the end of training.\n",
    "   - **Disadvantages**: More hyperparameter tuning is required to find the optimal decay rate.\n",
    "   - Example in our case: learning_rate='invscaling', where the learning rate decreases with the number of iterations.\n",
    "\n",
    "3. **Adaptive Learning Rate**:\n",
    "   - The learning rate is adjusted automatically based on the gradient of the error.\n",
    "   - **Advantages**: Makes it easier for the model to adapt during training, especially if the model faces local minima or plateaus.\n",
    "   - **Disadvantages**: Requires more sophisticated algorithms and tuning.\n",
    "\n",
    "---\n",
    "\n",
    "#### Choosing the Best Learning Rate for the Model\n",
    "\n",
    "To find the best learning rate, we experiment with different values and evaluate the model's performance based on metrics like **Mean Absolute Error (MAE)**.\n",
    "\n",
    "For example, we could test several learning rates:  \n",
    "- **Low learning rate** (e.g., 0.0001):  \n",
    "  - Pros: Slower convergence but more precise adjustment.\n",
    "  - Cons: Might take too long to converge, or the model might get stuck in local minima.\n",
    "\n",
    "- **Medium learning rate** (e.g., 0.001 or 0.01):  \n",
    "  - Pros: A balanced approach for convergence speed and stability.\n",
    "  - Cons: Might not perform optimally on every dataset without fine-tuning.\n",
    "\n",
    "- **High learning rate** (e.g., 0.1 or higher):  \n",
    "  - Pros: Fast convergence.\n",
    "  - Cons: Can cause the model to overshoot the optimal weights, leading to higher error and instability.\n",
    "\n",
    "---\n",
    "\n",
    "#### Which Learning Rate Is Best and Why?\n",
    "\n",
    "- **Best Learning Rate**: Typically, a **medium learning rate** like 0.001 or 0.01 strikes the best balance between convergence speed and stability. It avoids overshooting the optimal solution (as high learning rates might) and also prevents the training process from being too slow (as low learning rates would cause).\n",
    "  \n",
    "- **Why this choice**:\n",
    "  - **Stability**: For most datasets, a learning rate that’s too low will take too long to converge, while one that’s too high will cause the model to oscillate and not converge at all.\n",
    "  - **Empirical Testing**: From testing with different learning rates, if the MAE for the model is lowest at 0.001, it indicates the model is converging efficiently without overfitting or underfitting.\n",
    "\n",
    "---\n",
    "\n",
    "#### Conclusion:\n",
    "\n",
    "- **Best Learning Rate**: After experimentation, we would typically select the learning rate that minimizes MAE, which in many cases is around **0.001** or **0.01**.\n",
    "- **Tuning Process**: For an optimal model, a learning rate schedule (decay) like **invscaling** or **adaptive learning rates** might further improve performance.\n",
    "\n"
   ]
  },
  {
   "cell_type": "code",
   "execution_count": null,
   "id": "8b872ae6-c79c-4e30-a8f5-ea6f5b520d18",
   "metadata": {},
   "outputs": [],
   "source": []
  }
 ],
 "metadata": {
  "kernelspec": {
   "display_name": "Python 3 (ipykernel)",
   "language": "python",
   "name": "python3"
  },
  "language_info": {
   "codemirror_mode": {
    "name": "ipython",
    "version": 3
   },
   "file_extension": ".py",
   "mimetype": "text/x-python",
   "name": "python",
   "nbconvert_exporter": "python",
   "pygments_lexer": "ipython3",
   "version": "3.13.0"
  }
 },
 "nbformat": 4,
 "nbformat_minor": 5
}
