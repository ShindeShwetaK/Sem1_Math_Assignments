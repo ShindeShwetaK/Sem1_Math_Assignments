{
 "cells": [
  {
   "cell_type": "markdown",
   "id": "7b2bae31",
   "metadata": {},
   "source": [
    "### Shweta Shinde 017548687\n",
    "## Assignments for Probability 2"
   ]
  },
  {
   "cell_type": "markdown",
   "id": "55f0a520",
   "metadata": {},
   "source": [
    "### A 1"
   ]
  },
  {
   "cell_type": "markdown",
   "id": "e850ea4f",
   "metadata": {},
   "source": [
    "A fair coin is flipped 10 times. What is the probability of getting exactly 6 heads?"
   ]
  },
  {
   "cell_type": "code",
   "execution_count": 1,
   "id": "31d13c98",
   "metadata": {},
   "outputs": [
    {
     "name": "stdout",
     "output_type": "stream",
     "text": [
      "The probability of getting exactly 6 heads in 10 flips is: 0.20508\n"
     ]
    }
   ],
   "source": [
    "# Write your solution code here\n",
    "# You can use scipy.stats.binom to create binomial distribution objects\n",
    "# For example:\n",
    "from scipy.stats import binom\n",
    "\n",
    "# Parameters\n",
    "n = 10  # Number of flips\n",
    "k = 6   # Desired number of heads\n",
    "p = 0.5  # Probability of heads for a fair coin\n",
    "\n",
    "# Calculate the probability\n",
    "probability = binom.pmf(k, n, p)\n",
    "\n",
    "print(f\"The probability of getting exactly 6 heads in 10 flips is: {probability:.5f}\")\n"
   ]
  },
  {
   "cell_type": "markdown",
   "id": "da1d378a",
   "metadata": {},
   "source": [
    "### A 2"
   ]
  },
  {
   "cell_type": "markdown",
   "id": "0ca7c9ae",
   "metadata": {},
   "source": [
    "Assume that 45% of the population has brown eyes. If 12 people are randomly selected, what is the probability that exactly 5 of them have brown eyes?"
   ]
  },
  {
   "cell_type": "code",
   "execution_count": 2,
   "id": "6c05d3d9",
   "metadata": {},
   "outputs": [
    {
     "name": "stdout",
     "output_type": "stream",
     "text": [
      "The probability that exactly 5 out of 12 people have brown eyes is: 0.22250\n"
     ]
    }
   ],
   "source": [
    "# Write your solution code here\n",
    "# You can use scipy.stats.binom to create binomial distribution objects\n",
    "# For example:\n",
    "from scipy.stats import binom\n",
    "\n",
    "# Parameters\n",
    "n = 12   # Number of people selected\n",
    "k = 5    # Desired number of people with brown eyes\n",
    "p = 0.45  # Probability of having brown eyes\n",
    "\n",
    "# Calculate the probability\n",
    "probability = binom.pmf(k, n, p)\n",
    "\n",
    "print(f\"The probability that exactly 5 out of 12 people have brown eyes is: {probability:.5f}\")"
   ]
  },
  {
   "cell_type": "code",
   "execution_count": null,
   "id": "32b29480",
   "metadata": {},
   "outputs": [],
   "source": []
  }
 ],
 "metadata": {
  "kernelspec": {
   "display_name": "Python 3 (ipykernel)",
   "language": "python",
   "name": "python3"
  },
  "language_info": {
   "codemirror_mode": {
    "name": "ipython",
    "version": 3
   },
   "file_extension": ".py",
   "mimetype": "text/x-python",
   "name": "python",
   "nbconvert_exporter": "python",
   "pygments_lexer": "ipython3",
   "version": "3.11.5"
  }
 },
 "nbformat": 4,
 "nbformat_minor": 5
}
